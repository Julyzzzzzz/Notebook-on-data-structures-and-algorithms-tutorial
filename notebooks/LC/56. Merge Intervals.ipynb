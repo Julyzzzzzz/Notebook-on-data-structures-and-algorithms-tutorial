{
 "cells": [
  {
   "cell_type": "markdown",
   "metadata": {},
   "source": [
    "Given an array of intervals where `intervals[i] = [starti, endi]`, merge all overlapping intervals, and return an array of the non-overlapping intervals that cover all the intervals in the input."
   ]
  },
  {
   "cell_type": "markdown",
   "metadata": {},
   "source": [
    "Input: `intervals = [[1,3],[2,6],[8,10],[15,18]]`\n",
    "\n",
    "Output: `[[1,6],[8,10],[15,18]]`\n",
    "\n",
    "Explanation: Since intervals [1,3] and [2,6] overlaps, merge them into [1,6].\n",
    "\n",
    "Input: `intervals = [[1,4],[4,5]]`\n",
    "\n",
    "Output: `[[1,5]]`\n",
    "\n",
    "Explanation: Intervals [1,4] and [4,5] are considered overlapping.\n",
    "\n",
    "**Constraints:**\n",
    "\n",
    "1 <= `intervals.length` <= $10^4$\n",
    "\n",
    "`intervals[i].length` == 2\n",
    "\n",
    "0 <= `starti` <= `endi` <= $10^4$"
   ]
  },
  {
   "cell_type": "markdown",
   "metadata": {},
   "source": [
    "**Solution:**\n",
    "\n",
    "    sort intervals by its start\n",
    "\n",
    "    if curr.start <= last.end:\n",
    "    \n",
    "        merge intervals\n",
    "\n",
    "    else:\n",
    "    \n",
    "        insert a new intervals\n",
    "\n",
    "*think about when we merge [1, 3] [2, 6] and [1, 7] [2, 6]*\n",
    "\n",
    "**time complexity: O(nlog(n))**\n",
    "\n",
    "**space complexity: O(n)**"
   ]
  },
  {
   "cell_type": "code",
   "execution_count": 14,
   "metadata": {},
   "outputs": [],
   "source": [
    "# author: huahua\n",
    "\n",
    "class Solution(object):\n",
    "    def merge(self, intervals):\n",
    "        \"\"\"\n",
    "        :type intervals: List[List[int]]\n",
    "        :rtype: List[List[int]]\n",
    "        \"\"\"\n",
    "        ans = []\n",
    "        for interval in sorted(intervals, key=lambda x: x[0]):\n",
    "            if not ans or interval[0] > ans[-1][1]:\n",
    "                ans.append(interval)\n",
    "            else:\n",
    "                ans[-1][1] = max(ans[-1][1], interval[1])\n",
    "        return ans"
   ]
  },
  {
   "cell_type": "code",
   "execution_count": 15,
   "metadata": {},
   "outputs": [],
   "source": [
    "intervals1 = [[1,3],[2,6],[8,10],[15,18]]\n",
    "intervals2 = [[1,4],[4,5]]"
   ]
  },
  {
   "cell_type": "code",
   "execution_count": 16,
   "metadata": {},
   "outputs": [
    {
     "data": {
      "text/plain": [
       "[[1, 6], [8, 10], [15, 18]]"
      ]
     },
     "execution_count": 16,
     "metadata": {},
     "output_type": "execute_result"
    }
   ],
   "source": [
    "test = Solution()\n",
    "test.merge(intervals1)"
   ]
  },
  {
   "cell_type": "code",
   "execution_count": 17,
   "metadata": {},
   "outputs": [
    {
     "data": {
      "text/plain": [
       "[[1, 5]]"
      ]
     },
     "execution_count": 17,
     "metadata": {},
     "output_type": "execute_result"
    }
   ],
   "source": [
    "test.merge(intervals2)"
   ]
  },
  {
   "cell_type": "code",
   "execution_count": null,
   "metadata": {},
   "outputs": [],
   "source": []
  }
 ],
 "metadata": {
  "kernelspec": {
   "display_name": "Python 3",
   "language": "python",
   "name": "python3"
  },
  "language_info": {
   "codemirror_mode": {
    "name": "ipython",
    "version": 3
   },
   "file_extension": ".py",
   "mimetype": "text/x-python",
   "name": "python",
   "nbconvert_exporter": "python",
   "pygments_lexer": "ipython3",
   "version": "3.7.0"
  }
 },
 "nbformat": 4,
 "nbformat_minor": 4
}
