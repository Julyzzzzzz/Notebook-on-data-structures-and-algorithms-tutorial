{
 "cells": [
  {
   "cell_type": "markdown",
   "metadata": {},
   "source": [
    "### 34. Find First and Last Position of Element in Sorted Array"
   ]
  },
  {
   "cell_type": "code",
   "execution_count": null,
   "metadata": {},
   "outputs": [],
   "source": [
    "class Solution(object):\n",
    "    def searchRange(self, nums, target):\n",
    "        \"\"\"\n",
    "        :type nums: List[int]\n",
    "        :type target: int\n",
    "        :rtype: List[int]\n",
    "        \"\"\"\n",
    "        left, right = 0, len(nums)\n",
    "        lower = self.lowerbound(nums, target, left, right)\n",
    "        upper = self.upperbound(nums, target, left, right)\n",
    "            \n",
    "        l = lower\n",
    "        r = upper\n",
    "\n",
    "        while l < r:\n",
    "            m = l + (r - l) // 2\n",
    "            if nums[m] == target:\n",
    "                return [lower, upper-1]\n",
    "            if nums[m] < target:\n",
    "                l = m+1\n",
    "            else:\n",
    "                r = m\n",
    "        return [-1,-1]\n",
    "                \n",
    "                \n",
    "    def lowerbound(self, nums, target, left, right):\n",
    "        while left < right:\n",
    "            mid = left + (right - left) // 2\n",
    "            if nums[mid] >= target:\n",
    "                right=mid\n",
    "            else:\n",
    "                left = mid+1\n",
    "        return left\n",
    "            \n",
    "    def upperbound(self, nums, target, left, right):\n",
    "        while left < right:\n",
    "            mid = left + (right - left) // 2\n",
    "            if nums[mid] > target:\n",
    "                right=mid\n",
    "            else:\n",
    "                left = mid+1\n",
    "        return left"
   ]
  }
 ],
 "metadata": {
  "kernelspec": {
   "display_name": "Python 3",
   "language": "python",
   "name": "python3"
  },
  "language_info": {
   "codemirror_mode": {
    "name": "ipython",
    "version": 3
   },
   "file_extension": ".py",
   "mimetype": "text/x-python",
   "name": "python",
   "nbconvert_exporter": "python",
   "pygments_lexer": "ipython3",
   "version": "3.7.0"
  }
 },
 "nbformat": 4,
 "nbformat_minor": 4
}
