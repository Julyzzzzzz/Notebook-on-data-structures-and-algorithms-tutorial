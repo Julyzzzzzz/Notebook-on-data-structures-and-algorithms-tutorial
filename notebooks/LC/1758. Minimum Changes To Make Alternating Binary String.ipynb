{
 "cells": [
  {
   "cell_type": "markdown",
   "metadata": {},
   "source": [
    "You are given a string `s` consisting only of the characters `'0'` and `'1'`. In one operation, you can change any `'0'` to `'1'` or vice versa.\n",
    "\n",
    "The string is called alternating if no two adjacent characters are equal. For example, the string `\"010\"` is alternating, while the string `\"0100\"` is not.\n",
    "\n",
    "Return the minimum number of operations needed to make s alternating.\n",
    "\n",
    "**Constraints:**\n",
    "\n",
    "1 <= s.length <= $10^4$\n",
    "\n",
    "s[i] is either '0' or '1'."
   ]
  },
  {
   "cell_type": "markdown",
   "metadata": {},
   "source": [
    "Input: s = \"0100\"\n",
    "\n",
    "Output: 1\n",
    "\n",
    "Input: s = \"0100\"\n",
    "\n",
    "Output: 1\n",
    "\n",
    "Input: s = \"1111\"\n",
    "\n",
    "Output: 2"
   ]
  },
  {
   "cell_type": "code",
   "execution_count": 1,
   "metadata": {},
   "outputs": [],
   "source": [
    "class Solution(object):\n",
    "    \n",
    "    def flip(self,i):\n",
    "        if i == '1':\n",
    "            return '0'\n",
    "        else:\n",
    "            return '1'\n",
    "    \n",
    "    def flipCount(self,s,expected):\n",
    "        count = 0\n",
    "        for i in range(len(s)):\n",
    "            if s[i] != expected:\n",
    "                count +=1\n",
    "            expected = Solution.flip(self,expected)\n",
    "        return count\n",
    "    \n",
    "    def minOperations(self, s):\n",
    "        \"\"\"\n",
    "        :type s: str\n",
    "        :rtype: int\n",
    "        \"\"\"\n",
    "        return (min(Solution.flipCount(self, s,'0'), Solution.flipCount(self, s,'1')))"
   ]
  },
  {
   "cell_type": "code",
   "execution_count": null,
   "metadata": {},
   "outputs": [],
   "source": []
  }
 ],
 "metadata": {
  "kernelspec": {
   "display_name": "Python 3",
   "language": "python",
   "name": "python3"
  },
  "language_info": {
   "codemirror_mode": {
    "name": "ipython",
    "version": 3
   },
   "file_extension": ".py",
   "mimetype": "text/x-python",
   "name": "python",
   "nbconvert_exporter": "python",
   "pygments_lexer": "ipython3",
   "version": "3.7.0"
  }
 },
 "nbformat": 4,
 "nbformat_minor": 4
}
