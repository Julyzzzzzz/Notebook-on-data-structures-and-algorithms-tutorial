{
 "cells": [
  {
   "cell_type": "markdown",
   "metadata": {},
   "source": [
    "Given a list of the scores of different students, `items`, where `items[i] = [IDi, scorei]` represents one score from a student with `IDi`, calculate each student's **top five average**.\n",
    "\n",
    "Return the answer as an array of pairs result, where `result[j] = [IDj, topFiveAveragej]`represents the student with `IDj` and their top five average. **Sort result by IDj in increasing order.**\n",
    "\n",
    "A student's top five average is calculated by taking the sum of their top five scores and dividing it by 5 using **integer division**.\n",
    "\n",
    "*Constraints:*\n",
    "\n",
    "1 <= `items.length` <= 1000\n",
    "\n",
    "`items[i].length` == 2\n",
    "\n",
    "1 <= `IDi` <= 1000\n",
    "\n",
    "0 <= `scorei` <= 100\n",
    "\n",
    "For each `ID`i, there will be **at least five scores**."
   ]
  },
  {
   "cell_type": "markdown",
   "metadata": {},
   "source": [
    "**Input:**\n",
    "\n",
    "items = [[1,91],[1,92],[2,93],[2,97],[1,60],[2,77],[1,65],[1,87],[1,100],[2,100],[2,76]]\n",
    "\n",
    "**Output:**\n",
    "\n",
    "[[1,87],[2,88]]\n",
    "\n",
    "**Explanation:**\n",
    "\n",
    "The student with ID = 1 got scores 91, 92, 60, 65, 87, and 100. Their top five average is (100 + 92 + 91 + 87 + 65) / 5 = 87.\n",
    "The student with ID = 2 got scores 93, 97, 77, 100, and 76. Their top five average is (100 + 97 + 93 + 77 + 76) / 5 = 88.6, but with integer division their average converts to 88.\n",
    "\n",
    "**Input:** \n",
    "\n",
    "items = [[1,100],[7,100],[1,100],[7,100],[1,100],[7,100],[1,100],[7,100],[1,100],[7,100]]\n",
    "\n",
    "**Output:**\n",
    "\n",
    "[[1,100],[7,100]]"
   ]
  },
  {
   "cell_type": "code",
   "execution_count": 45,
   "metadata": {},
   "outputs": [],
   "source": [
    "class Solution:\n",
    "    def highFive(self, items):\n",
    "        dic =  {}  \n",
    "        \n",
    "        for item in items:\n",
    "            if item[0] in dic:\n",
    "                dic[item[0]].append(item[1])\n",
    "            else:\n",
    "                dic[item[0]] = [item[1]]\n",
    "        \n",
    "        def sort_avg(list):   \n",
    "            list = sorted(list, reverse = True)\n",
    "            return sum(list[0:5])//5\n",
    "        \n",
    "        final = []\n",
    "        \n",
    "        for item in dic:  \n",
    "            final.append([item, sort_avg(dic[item])])\n",
    "\n",
    "        return sorted(final)"
   ]
  },
  {
   "cell_type": "code",
   "execution_count": 46,
   "metadata": {},
   "outputs": [],
   "source": [
    "items = [[1,91],[1,92],[2,93],[2,97],[1,60],[2,77],[1,65],[1,87],[1,100],[2,100],[2,76]]"
   ]
  },
  {
   "cell_type": "code",
   "execution_count": 47,
   "metadata": {},
   "outputs": [
    {
     "name": "stdout",
     "output_type": "stream",
     "text": [
      "[[1, 87], [2, 88]]\n"
     ]
    }
   ],
   "source": [
    "test = Solution()\n",
    "print (test.highFive(items))"
   ]
  },
  {
   "cell_type": "code",
   "execution_count": 3,
   "metadata": {},
   "outputs": [],
   "source": [
    "c = [[6,90],[1,100]]\n",
    "c = sorted(c)"
   ]
  },
  {
   "cell_type": "code",
   "execution_count": 4,
   "metadata": {},
   "outputs": [
    {
     "data": {
      "text/plain": [
       "[[1, 100], [6, 90]]"
      ]
     },
     "execution_count": 4,
     "metadata": {},
     "output_type": "execute_result"
    }
   ],
   "source": [
    "c"
   ]
  },
  {
   "cell_type": "code",
   "execution_count": 6,
   "metadata": {},
   "outputs": [],
   "source": [
    "a = [1,2,3,4,5,6]"
   ]
  },
  {
   "cell_type": "code",
   "execution_count": 8,
   "metadata": {},
   "outputs": [
    {
     "data": {
      "text/plain": [
       "[1, 2, 3, 4, 5]"
      ]
     },
     "execution_count": 8,
     "metadata": {},
     "output_type": "execute_result"
    }
   ],
   "source": [
    "b"
   ]
  },
  {
   "cell_type": "code",
   "execution_count": 10,
   "metadata": {},
   "outputs": [
    {
     "data": {
      "text/plain": [
       "17"
      ]
     },
     "execution_count": 10,
     "metadata": {},
     "output_type": "execute_result"
    }
   ],
   "source": [
    "a = 87\n",
    "b = a // 5\n",
    "b"
   ]
  },
  {
   "cell_type": "code",
   "execution_count": null,
   "metadata": {},
   "outputs": [],
   "source": []
  },
  {
   "cell_type": "code",
   "execution_count": null,
   "metadata": {},
   "outputs": [],
   "source": []
  }
 ],
 "metadata": {
  "kernelspec": {
   "display_name": "Python 3",
   "language": "python",
   "name": "python3"
  },
  "language_info": {
   "codemirror_mode": {
    "name": "ipython",
    "version": 3
   },
   "file_extension": ".py",
   "mimetype": "text/x-python",
   "name": "python",
   "nbconvert_exporter": "python",
   "pygments_lexer": "ipython3",
   "version": "3.7.0"
  }
 },
 "nbformat": 4,
 "nbformat_minor": 4
}
