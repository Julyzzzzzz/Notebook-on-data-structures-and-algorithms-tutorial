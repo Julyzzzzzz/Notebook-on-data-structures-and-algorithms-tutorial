{
 "cells": [
  {
   "cell_type": "code",
   "execution_count": 1,
   "metadata": {},
   "outputs": [],
   "source": [
    "n = [1,2,3,1]"
   ]
  },
  {
   "cell_type": "code",
   "execution_count": 2,
   "metadata": {},
   "outputs": [
    {
     "data": {
      "text/plain": [
       "7"
      ]
     },
     "execution_count": 2,
     "metadata": {},
     "output_type": "execute_result"
    }
   ],
   "source": [
    "sum(n)"
   ]
  },
  {
   "cell_type": "markdown",
   "metadata": {},
   "source": [
    "You are a professional robber planning to rob houses along a street. Each house has a certain amount of money stashed, the only constraint stopping you from robbing each of them is that adjacent houses have security system connected and **it will automatically contact the police if two adjacent houses were broken into on the same night**.\n",
    "\n",
    "Given a list of non-negative integers representing the amount of money of each house, determine the maximum amount of money you can rob tonight **without alerting the police**.\n",
    "\n",
    "*Constraints:*\n",
    "\n",
    "- $0 <= $nums.length$ <= 100$\n",
    "- $0 <= $nums[i] $<= 400$"
   ]
  },
  {
   "cell_type": "code",
   "execution_count": 4,
   "metadata": {},
   "outputs": [],
   "source": [
    "# my first attempted\n",
    "# failed the test [2,1,1,2] -> returns 4\n",
    "\n",
    "def rob(nums):\n",
    "    \"\"\"\n",
    "    :type nums: List[int]\n",
    "    :rtype: int\n",
    "    \"\"\"\n",
    "    first = []\n",
    "    second = []\n",
    "    for i in range(len(nums)):\n",
    "        if i%2 == 1:\n",
    "            first.append(nums[i])\n",
    "        else:\n",
    "            second.append(nums[i])\n",
    "    res = max(sum(first), sum(second))\n",
    "    return res"
   ]
  },
  {
   "cell_type": "markdown",
   "metadata": {},
   "source": [
    "$f(k)$ = Largest amount that you can rob from the first k houses.\n",
    "\n",
    "$A_i$ = Amount of money at the ith house.\n",
    "\n",
    "$n$ = number of houses\n",
    "\n",
    "when $n = 1$, $f(1) = A_1$\n",
    "\n",
    "when $n = 2$, $f(2) = max(A_1, A_2)$\n",
    "\n",
    "when $n = 3$, $f(3) = max(f(3-2)+A_3, f(3-1))$\n",
    "\n",
    "two options:\n",
    "\n",
    "1. $f(3-2) + A_3$ : Rob the 3rd house, and add its amount to the first house's amount.\n",
    "2. $f(3-1)$ : Do not rob the 3rd house, and stick with the maximum amount of the first two houses.\n",
    "\n",
    "Clearly, we want to choose the larger of the two options at each step.\n",
    "\n",
    "Therefore, we could summarize the formula as following:\n",
    "\n",
    "**when $n = k$, $f(k) = max(f(k-2)+A_k, f(k-1))$**"
   ]
  },
  {
   "cell_type": "code",
   "execution_count": 6,
   "metadata": {},
   "outputs": [],
   "source": [
    "class Solution(object):\n",
    "    def rob(self, nums):\n",
    "        \"\"\"\n",
    "        :type nums: List[int]\n",
    "        :rtype: int\n",
    "        \"\"\"\n",
    "        prev2 = 0\n",
    "        prev1 = 0\n",
    "        for i in range(0,len(nums)):\n",
    "            temp = prev1\n",
    "            prev1 = max(prev2+nums[i],prev1)\n",
    "            prev2 = temp\n",
    "        return prev1"
   ]
  },
  {
   "cell_type": "code",
   "execution_count": 7,
   "metadata": {},
   "outputs": [
    {
     "name": "stdout",
     "output_type": "stream",
     "text": [
      "13\n"
     ]
    }
   ],
   "source": [
    "ob1 = Solution()\n",
    "print(ob1.rob([2,7,10,3,1]))"
   ]
  },
  {
   "cell_type": "code",
   "execution_count": null,
   "metadata": {},
   "outputs": [],
   "source": []
  }
 ],
 "metadata": {
  "kernelspec": {
   "display_name": "Python 3",
   "language": "python",
   "name": "python3"
  },
  "language_info": {
   "codemirror_mode": {
    "name": "ipython",
    "version": 3
   },
   "file_extension": ".py",
   "mimetype": "text/x-python",
   "name": "python",
   "nbconvert_exporter": "python",
   "pygments_lexer": "ipython3",
   "version": "3.7.0"
  }
 },
 "nbformat": 4,
 "nbformat_minor": 4
}
