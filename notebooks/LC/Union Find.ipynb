{
 "cells": [
  {
   "cell_type": "markdown",
   "id": "6d7d5409",
   "metadata": {},
   "source": [
    "**684. Redundant Connection**"
   ]
  },
  {
   "cell_type": "code",
   "execution_count": 12,
   "id": "5d97f2a6",
   "metadata": {},
   "outputs": [],
   "source": [
    "def findRedundantConnection(edges):\n",
    "    p = [0]*(len(edges)+1)\n",
    "    s = [1]*(len(edges)+1)\n",
    "    \n",
    "    # path compression during find\n",
    "    def find(u):\n",
    "        while p[u] != u:\n",
    "            p[u] = p[p[u]]\n",
    "            u = p[u]\n",
    "        return u\n",
    "    \n",
    "    for u, v in edges:\n",
    "        if p[u] == 0:\n",
    "            p[u] = u\n",
    "        if p[v] == 0:\n",
    "            p[v] = v\n",
    "        pu, pv = find(u), find(v)\n",
    "        if pu == pv:\n",
    "            return [u, v]\n",
    "        \n",
    "        # union by rank, make sure pv is lower rank\n",
    "        # link v's parent node to u's, increase size\n",
    "        if s[pv] > s[pu]:\n",
    "            u, v = v, u\n",
    "        p[pv] = pu\n",
    "        s[pu] += s[pv]\n",
    "        \n",
    "    return []"
   ]
  },
  {
   "cell_type": "code",
   "execution_count": 13,
   "id": "a642623d",
   "metadata": {},
   "outputs": [
    {
     "data": {
      "text/plain": [
       "[2, 3]"
      ]
     },
     "execution_count": 13,
     "metadata": {},
     "output_type": "execute_result"
    }
   ],
   "source": [
    "edges = [[1,2], [1,3], [2,3]]\n",
    "findRedundantConnection(edges)"
   ]
  },
  {
   "cell_type": "code",
   "execution_count": 6,
   "id": "be10f0e7",
   "metadata": {},
   "outputs": [
    {
     "name": "stdout",
     "output_type": "stream",
     "text": [
      "1 2\n",
      "1 3\n",
      "2 3\n"
     ]
    }
   ],
   "source": [
    "for u,v in edges:\n",
    "    print (u,v)"
   ]
  },
  {
   "cell_type": "markdown",
   "id": "73429aa8",
   "metadata": {},
   "source": [
    "**547. Number of Provinces**"
   ]
  },
  {
   "cell_type": "code",
   "execution_count": 1,
   "id": "27edc9a5",
   "metadata": {},
   "outputs": [],
   "source": [
    "\"\"\"\n",
    "Method 1: DFS\n",
    "Time complexity: O(n^2)\n",
    "Space complexity: O(n)\n",
    "\"\"\"\n",
    "class Solution(object):\n",
    "    def findCircleNum(M):\n",
    "        def dfs(M, curr, n):\n",
    "            for i in range(n):\n",
    "                if M[curr][i] == 1:\n",
    "                    M[curr][i] = M[i][curr] = 0\n",
    "                    dfs(M, i, n)\n",
    "        \n",
    "        n = len(M)\n",
    "        ans = 0\n",
    "        for i in range(n):\n",
    "            if M[i][i] == 1:\n",
    "                ans += 1\n",
    "                dfs(M, i, n)       \n",
    "        return ans"
   ]
  },
  {
   "cell_type": "code",
   "execution_count": 2,
   "id": "8cd06e93",
   "metadata": {},
   "outputs": [
    {
     "data": {
      "text/plain": [
       "2"
      ]
     },
     "execution_count": 2,
     "metadata": {},
     "output_type": "execute_result"
    }
   ],
   "source": [
    "isConnected = [[1,1,0],[1,1,0],[0,0,1]]\n",
    "Solution.findCircleNum(isConnected)"
   ]
  },
  {
   "cell_type": "code",
   "execution_count": 6,
   "id": "19af6692",
   "metadata": {},
   "outputs": [],
   "source": [
    "\"\"\"\n",
    "Method 2: Union Find\n",
    "\n",
    "\"\"\"\n",
    "class Solution:\n",
    "    def findCircleNum(isConnected):\n",
    "             \n",
    "        def find(u):\n",
    "            while u != p[u]:\n",
    "                p[u] = find(p[u])\n",
    "                u = p[u]\n",
    "            return u\n",
    "                      \n",
    "        m = len(isConnected)\n",
    "        p = []\n",
    "        for i in range(m):\n",
    "            p.append(i)\n",
    "        \n",
    "        for i in range(m):\n",
    "            for j in range(i, m):\n",
    "                if i != j and isConnected[i][j] == 1 and find(i) != find(j):\n",
    "                    p[find(i)] = find(j)\n",
    "        \n",
    "        provinces = []\n",
    "        for n in range(m):\n",
    "            if p[n] == n:\n",
    "                provinces.append(n)\n",
    "        \n",
    "        return len(provinces)"
   ]
  },
  {
   "cell_type": "code",
   "execution_count": 8,
   "id": "e60da0c5",
   "metadata": {},
   "outputs": [
    {
     "data": {
      "text/plain": [
       "2"
      ]
     },
     "execution_count": 8,
     "metadata": {},
     "output_type": "execute_result"
    }
   ],
   "source": [
    "isConnected = [[1,1,0],[1,1,0],[0,0,1]]\n",
    "Solution.findCircleNum(isConnected)"
   ]
  },
  {
   "cell_type": "markdown",
   "id": "49266721",
   "metadata": {},
   "source": [
    "**737. Sentence Similarity II**"
   ]
  },
  {
   "cell_type": "code",
   "execution_count": 91,
   "id": "49b8d40e",
   "metadata": {},
   "outputs": [],
   "source": [
    "class UFS:\n",
    "    def __init__(self, n):\n",
    "        self.p = [0]*(n+1)\n",
    "        self.s = [1]*(n+1)\n",
    "    def find(self, u):\n",
    "        while u != self.p[u]:\n",
    "            self.p[u] = self.p[self.p[u]]\n",
    "            u = self.p[u]\n",
    "        return u\n",
    "    def union(self, u, v):\n",
    "        pu = self.find(u)\n",
    "        pv = self.find(v)\n",
    "        if pu == pv: return False\n",
    "        if s[pu] > s[pv]:\n",
    "            u, v = v, u\n",
    "        p[pu] = pv\n",
    "        s[pv] += s[pu]\n",
    "        return True\n",
    "        \n",
    "class Solution:\n",
    "    def areSentencesSimilarTwo(words1, words2, pairs):\n",
    "        \n",
    "        if len(words1) != len(words2):\n",
    "            return False\n",
    "        \n",
    "        index = {}\n",
    "        ufs = UFS(2*len(pairs))\n",
    "        \n",
    "        for pair in pairs:\n",
    "            u = Solution.getIndex(pair[0], index, 'True')\n",
    "            v = Solution.getIndex(pair[1], index, 'True')\n",
    "            ufs.union(u, v)\n",
    "        print(index)\n",
    "        \n",
    "        for i in range(len(words1)):\n",
    "            if words1[i] == words2[i]:\n",
    "                continue\n",
    "            u, v = getIndex(words1[i], index, 'False'), getIndex(words2[i], index, 'False')\n",
    "            print(u, v)\n",
    "            if u < 0 or v < 0:\n",
    "                return False\n",
    "            if ufs.find(u) != ufs.find(v):\n",
    "                return False\n",
    "        print (index)\n",
    "        return True\n",
    "        \n",
    "    \n",
    "    def getIndex(word, index, create):\n",
    "        print(word)\n",
    "        if word in index:\n",
    "            return index[word]\n",
    "        else:\n",
    "            if create == 'True':\n",
    "                num = len(index)\n",
    "                index[word] = num\n",
    "                return num\n",
    "            return -1"
   ]
  },
  {
   "cell_type": "code",
   "execution_count": 92,
   "id": "f4cbf720",
   "metadata": {},
   "outputs": [],
   "source": [
    "words1 = [\"great\",\"acting\",\"skills\"]\n",
    "words2 = [\"fine\",\"painting\",\"talent\"]\n",
    "pairs = [[\"great\",\"fine\"],[\"drama\",\"acting\"],[\"skills\",\"talent\"]]"
   ]
  },
  {
   "cell_type": "code",
   "execution_count": 93,
   "id": "7ed6e0d3",
   "metadata": {},
   "outputs": [
    {
     "name": "stdout",
     "output_type": "stream",
     "text": [
      "great\n",
      "fine\n",
      "drama\n",
      "acting\n",
      "skills\n",
      "talent\n",
      "{'great': 0, 'fine': 1, 'drama': 2, 'acting': 3, 'skills': 4, 'talent': 5}\n",
      "0 1\n",
      "3 6\n",
      "4 5\n",
      "{'great': 0, 'fine': 1, 'drama': 2, 'acting': 3, 'skills': 4, 'talent': 5, 'painting': 6}\n"
     ]
    },
    {
     "data": {
      "text/plain": [
       "True"
      ]
     },
     "execution_count": 93,
     "metadata": {},
     "output_type": "execute_result"
    }
   ],
   "source": [
    "Solution.areSentencesSimilarTwo(words1,words2,pairs)"
   ]
  },
  {
   "cell_type": "code",
   "execution_count": 61,
   "id": "1658b361",
   "metadata": {},
   "outputs": [],
   "source": [
    "def getIndex(word, index, create = 'False'):\n",
    "    if word in index:\n",
    "        return index[word]\n",
    "    else:\n",
    "        if not create:\n",
    "            return -1\n",
    "        num = len(index)\n",
    "        index[word] = num\n",
    "        return num\n",
    "\n",
    "index = {}\n",
    "for pair in pairs:\n",
    "    u = getIndex(pair[0], index, 'True')\n",
    "    v = getIndex(pair[1], index, 'True')"
   ]
  },
  {
   "cell_type": "code",
   "execution_count": 62,
   "id": "cbe022a2",
   "metadata": {},
   "outputs": [
    {
     "data": {
      "text/plain": [
       "{'great': 0, 'fine': 1, 'drama': 2, 'acting': 3, 'skills': 4, 'talent': 5}"
      ]
     },
     "execution_count": 62,
     "metadata": {},
     "output_type": "execute_result"
    }
   ],
   "source": [
    "index"
   ]
  },
  {
   "cell_type": "code",
   "execution_count": null,
   "id": "375df7df",
   "metadata": {},
   "outputs": [],
   "source": []
  }
 ],
 "metadata": {
  "kernelspec": {
   "display_name": "Python 3",
   "language": "python",
   "name": "python3"
  },
  "language_info": {
   "codemirror_mode": {
    "name": "ipython",
    "version": 3
   },
   "file_extension": ".py",
   "mimetype": "text/x-python",
   "name": "python",
   "nbconvert_exporter": "python",
   "pygments_lexer": "ipython3",
   "version": "3.9.1"
  }
 },
 "nbformat": 4,
 "nbformat_minor": 5
}
