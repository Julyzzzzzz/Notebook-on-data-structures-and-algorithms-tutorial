{
 "cells": [
  {
   "cell_type": "markdown",
   "id": "6d7d5409",
   "metadata": {},
   "source": [
    "**684. Redundant Connection**"
   ]
  },
  {
   "cell_type": "code",
   "execution_count": 12,
   "id": "5d97f2a6",
   "metadata": {},
   "outputs": [],
   "source": [
    "def findRedundantConnection(edges):\n",
    "    p = [0]*(len(edges)+1)\n",
    "    s = [1]*(len(edges)+1)\n",
    "    \n",
    "    # path compression during find\n",
    "    def find(u):\n",
    "        while p[u] != u:\n",
    "            p[u] = p[p[u]]\n",
    "            u = p[u]\n",
    "        return u\n",
    "    \n",
    "    for u, v in edges:\n",
    "        if p[u] == 0:\n",
    "            p[u] = u\n",
    "        if p[v] == 0:\n",
    "            p[v] = v\n",
    "        pu, pv = find(u), find(v)\n",
    "        if pu == pv:\n",
    "            return [u, v]\n",
    "        \n",
    "        # union by rank, make sure pv is lower rank\n",
    "        # link v's parent node to u's, increase size\n",
    "        if s[pv] > s[pu]:\n",
    "            u, v = v, u\n",
    "        p[pv] = pu\n",
    "        s[pu] += s[pv]\n",
    "        \n",
    "    return []"
   ]
  },
  {
   "cell_type": "code",
   "execution_count": 13,
   "id": "a642623d",
   "metadata": {},
   "outputs": [
    {
     "data": {
      "text/plain": [
       "[2, 3]"
      ]
     },
     "execution_count": 13,
     "metadata": {},
     "output_type": "execute_result"
    }
   ],
   "source": [
    "edges = [[1,2], [1,3], [2,3]]\n",
    "findRedundantConnection(edges)"
   ]
  },
  {
   "cell_type": "code",
   "execution_count": 6,
   "id": "be10f0e7",
   "metadata": {},
   "outputs": [
    {
     "name": "stdout",
     "output_type": "stream",
     "text": [
      "1 2\n",
      "1 3\n",
      "2 3\n"
     ]
    }
   ],
   "source": [
    "for u,v in edges:\n",
    "    print (u,v)"
   ]
  },
  {
   "cell_type": "markdown",
   "id": "73429aa8",
   "metadata": {},
   "source": [
    "**547. Number of Provinces**"
   ]
  },
  {
   "cell_type": "code",
   "execution_count": 22,
   "id": "27edc9a5",
   "metadata": {},
   "outputs": [],
   "source": [
    "\"\"\"\n",
    "Method 1: DFS\n",
    "Time complexity: O(n^2)\n",
    "Space complexity: O(n)\n",
    "\"\"\"\n",
    "class Solution(object):\n",
    "    def findCircleNum(M):\n",
    "        def dfs(M, curr, n):\n",
    "            for i in range(n):\n",
    "                if M[curr][i] == 1:\n",
    "                    M[curr][i] = M[i][curr] = 0\n",
    "                    dfs(M, i, n)\n",
    "        \n",
    "        n = len(M)\n",
    "        ans = 0\n",
    "        for i in range(n):\n",
    "            if M[i][i] == 1:\n",
    "                ans += 1\n",
    "                dfs(M, i, n)       \n",
    "        return ans"
   ]
  },
  {
   "cell_type": "code",
   "execution_count": 23,
   "id": "8cd06e93",
   "metadata": {},
   "outputs": [
    {
     "data": {
      "text/plain": [
       "2"
      ]
     },
     "execution_count": 23,
     "metadata": {},
     "output_type": "execute_result"
    }
   ],
   "source": [
    "isConnected = [[1,1,0],[1,1,0],[0,0,1]]\n",
    "Solution.findCircleNum(isConnected)"
   ]
  },
  {
   "cell_type": "code",
   "execution_count": 24,
   "id": "19af6692",
   "metadata": {},
   "outputs": [],
   "source": [
    "\"\"\"\n",
    "Method 2: Union Find\n",
    "\n",
    "\"\"\"\n",
    "def findRedundantConnection(m):\n",
    "    p = [0]*(len(m)+1)\n",
    "    s = [1]*(len(m)+1)\n",
    "    \n",
    "    # path compression during find\n",
    "    def find(u):\n",
    "        while p[u] != u:\n",
    "            p[u] = p[p[u]]\n",
    "            u = p[u]\n",
    "        return u\n",
    "    \n",
    "    for u, v in edges:\n",
    "        if p[u] == 0:\n",
    "            p[u] = u\n",
    "        if p[v] == 0:\n",
    "            p[v] = v\n",
    "        pu, pv = find(u), find(v)\n",
    "        if pu == pv:\n",
    "            return [u, v]\n",
    "        \n",
    "        # union by rank, make sure pv is lower rank\n",
    "        # link v's parent node to u's, increase size\n",
    "        if s[pv] > s[pu]:\n",
    "            u, v = v, u\n",
    "        p[pv] = pu\n",
    "        s[pu] += s[pv]\n",
    "        \n",
    "    return []"
   ]
  },
  {
   "cell_type": "code",
   "execution_count": null,
   "id": "3e53ea9e",
   "metadata": {},
   "outputs": [],
   "source": [
    "class Solution:\n",
    "    def findCircleNum(self, M):\n",
    "        \"\"\"\n",
    "        :type M: List[List[int]]\n",
    "        :rtype: int\n",
    "        \"\"\"\n",
    "        def find(node):\n",
    "            if circles[node] == node: return node\n",
    "            root = find(circles[node])\n",
    "            circles[node] = root\n",
    "            return root\n",
    "        \n",
    "        n = len(M)\n",
    "        circles = {x:x for x in range(n)}\n",
    "        num = n\n",
    "        for i in range(n):\n",
    "            for j in range(i, n):\n",
    "                if i != j and M[i][j] == 1 and find(i) != find(j):\n",
    "                    circles[find(i)] = find(j)   \n",
    "                    "
   ]
  },
  {
   "cell_type": "code",
   "execution_count": null,
   "id": "7dca8ec5",
   "metadata": {},
   "outputs": [],
   "source": [
    "class UnionFindSet:\n",
    "    def __init__(self, m):\n",
    "        self.p = [0] * (len(m) + 1)\n",
    "        self.s = [1] * (len(m) + 1)\n",
    "        for i in range(len(m)):\n",
    "            self.p[i] = i\n",
    "            \n",
    "    def find(self, u):\n",
    "        while u != self.p[u]:\n",
    "            self.p[u] = find(self.p(u))\n",
    "        return self.p[u]\n",
    "    \n",
    "    def union(self, u, v):\n",
    "        pu, pv = self.find(u), self.find(v)\n",
    "        if pu == pv:\n",
    "            return False\n",
    "        if self.s[pu] > self.s[pv]:\n",
    "            pu, pv = pv, pu\n",
    "        self.p[pu] = pv\n",
    "        self.s[pv] += self.s[pu]\n",
    "        return True\n",
    "            \n",
    "        \n",
    "\n",
    "class Solution:\n",
    "    def findCircleNum(self, isConnected: List[List[int]]) -> int:\n",
    "        m = len(isConnected)\n",
    "        M = UnionFindSet(isConnected)\n",
    "        for i in range(m):\n",
    "            for j in range(i+1, m):\n",
    "                if isConnected[i][j] == 1:\n",
    "                    M.union(i,j)\n",
    "        province = []\n",
    "        for n in range(m):\n",
    "            province.append(M.find(i))\n",
    "        return (len(set(province)))"
   ]
  }
 ],
 "metadata": {
  "kernelspec": {
   "display_name": "Python 3",
   "language": "python",
   "name": "python3"
  },
  "language_info": {
   "codemirror_mode": {
    "name": "ipython",
    "version": 3
   },
   "file_extension": ".py",
   "mimetype": "text/x-python",
   "name": "python",
   "nbconvert_exporter": "python",
   "pygments_lexer": "ipython3",
   "version": "3.9.1"
  }
 },
 "nbformat": 4,
 "nbformat_minor": 5
}
