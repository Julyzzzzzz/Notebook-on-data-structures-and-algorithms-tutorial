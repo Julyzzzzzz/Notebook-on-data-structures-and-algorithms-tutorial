{
 "cells": [
  {
   "cell_type": "markdown",
   "id": "d0eb284f",
   "metadata": {},
   "source": [
    "**Explanation**\n",
    "\n",
    "Put all characters in a set,\n",
    "\n",
    "return if the size of set equals to 26.\n",
    "\n",
    "Can return earlier if you like."
   ]
  },
  {
   "cell_type": "markdown",
   "id": "47cdc49e",
   "metadata": {},
   "source": [
    "**Complexity**\n",
    "\n",
    "Time O(n)\n",
    "\n",
    "Space O(26)"
   ]
  },
  {
   "cell_type": "code",
   "execution_count": 1,
   "id": "fe1a7ac9",
   "metadata": {},
   "outputs": [],
   "source": [
    "def checkIfPangram(self, s):\n",
    "        return len(set(s)) == 26"
   ]
  },
  {
   "cell_type": "code",
   "execution_count": null,
   "id": "d7d967d9",
   "metadata": {},
   "outputs": [],
   "source": []
  }
 ],
 "metadata": {
  "kernelspec": {
   "display_name": "Python 3",
   "language": "python",
   "name": "python3"
  },
  "language_info": {
   "codemirror_mode": {
    "name": "ipython",
    "version": 3
   },
   "file_extension": ".py",
   "mimetype": "text/x-python",
   "name": "python",
   "nbconvert_exporter": "python",
   "pygments_lexer": "ipython3",
   "version": "3.9.1"
  }
 },
 "nbformat": 4,
 "nbformat_minor": 5
}
