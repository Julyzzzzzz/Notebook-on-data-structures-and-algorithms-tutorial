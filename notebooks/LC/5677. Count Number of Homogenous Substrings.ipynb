{
 "cells": [
  {
   "cell_type": "markdown",
   "metadata": {},
   "source": [
    "Given a string `s`, return the number of homogenous substrings of `s`. Since the answer may be too large, return it modulo $10^9 + 7$.\n",
    "\n",
    "A string is homogenous if all the characters of the string are the same.\n",
    "\n",
    "A substring is a contiguous sequence of characters within a string."
   ]
  },
  {
   "cell_type": "markdown",
   "metadata": {},
   "source": [
    "**Constraints**:\n",
    "\n",
    "1 <= s.length <= $10^5$\n",
    "\n",
    "`s` consists of lowercase letters."
   ]
  },
  {
   "cell_type": "markdown",
   "metadata": {},
   "source": [
    "> Input: s = `\"abbcccaa\"`\n",
    "\n",
    "> a:3, aa:1, b:2, bb:1, c:3, cc:2, 333:1\n",
    "\n",
    "> Output: `13`\n",
    "\n",
    "> Input: s = `\"xy\"`\n",
    "\n",
    "> Output: `2`\n",
    "\n",
    "> Input: s = `\"zzzzz\"`\n",
    "\n",
    "> Output: `15`"
   ]
  },
  {
   "cell_type": "code",
   "execution_count": null,
   "metadata": {},
   "outputs": [],
   "source": [
    "class Solution(object):\n",
    "    def countHomogenous(self, s):\n",
    "        \"\"\"\n",
    "        :type s: str\n",
    "        :rtype: int\n",
    "        \"\"\"\n",
    "        dic = {}\n",
    "        count = 0\n",
    "        for i in s:\n",
    "            if i not in dic:\n",
    "                dic[i] = 1\n",
    "            else:\n",
    "                dic[i]+=1\n",
    "        for j in dic:\n",
    "            if dic[j] == 1:\n",
    "                count +=1\n",
    "            else:\n",
    "                pos = 0\n",
    "                length = 0 \n",
    "                while length <= dic[i]:\n",
    "                    count += helper(s,pos)\n",
    "                    "
   ]
  }
 ],
 "metadata": {
  "kernelspec": {
   "display_name": "Python 3",
   "language": "python",
   "name": "python3"
  },
  "language_info": {
   "codemirror_mode": {
    "name": "ipython",
    "version": 3
   },
   "file_extension": ".py",
   "mimetype": "text/x-python",
   "name": "python",
   "nbconvert_exporter": "python",
   "pygments_lexer": "ipython3",
   "version": "3.7.0"
  }
 },
 "nbformat": 4,
 "nbformat_minor": 4
}
