{
 "cells": [
  {
   "cell_type": "markdown",
   "metadata": {},
   "source": [
    "### 35. Search Insert Position"
   ]
  },
  {
   "cell_type": "markdown",
   "metadata": {},
   "source": [
    "Given a sorted array of distinct integers and a target value, return the index if the target is found. If not, return the index where it would be if it were inserted in order."
   ]
  },
  {
   "cell_type": "code",
   "execution_count": 1,
   "metadata": {},
   "outputs": [],
   "source": [
    "# first attempt\n",
    "\n",
    "class Solution(object):\n",
    "    def searchInsert(self, nums, target):\n",
    "        \"\"\"\n",
    "        :type nums: List[int]\n",
    "        :type target: int\n",
    "        :rtype: int\n",
    "        \"\"\"\n",
    "        for index, char in enumerate(nums):\n",
    "            if char >= target:\n",
    "                return index\n",
    "        return len(nums)"
   ]
  },
  {
   "cell_type": "code",
   "execution_count": 13,
   "metadata": {},
   "outputs": [],
   "source": [
    "# 2\n",
    "nums1 = [1,3,5,6]\n",
    "target1 = 5\n",
    "# 4\n",
    "nums2 = [1,3,5,6]\n",
    "target2 = 7"
   ]
  },
  {
   "cell_type": "code",
   "execution_count": 14,
   "metadata": {},
   "outputs": [
    {
     "data": {
      "text/plain": [
       "2"
      ]
     },
     "execution_count": 14,
     "metadata": {},
     "output_type": "execute_result"
    }
   ],
   "source": [
    "s = Solution()\n",
    "s.searchInsert(nums1, target1)"
   ]
  },
  {
   "cell_type": "code",
   "execution_count": 15,
   "metadata": {},
   "outputs": [
    {
     "data": {
      "text/plain": [
       "4"
      ]
     },
     "execution_count": 15,
     "metadata": {},
     "output_type": "execute_result"
    }
   ],
   "source": [
    "s.searchInsert(nums2, target2)"
   ]
  },
  {
   "cell_type": "markdown",
   "metadata": {},
   "source": [
    "this problem could be a good match with the binary search algorithm.\n",
    "\n",
    "**Binary search is a search algorithm that find the position of a target value within a sorted array.**\n",
    "\n",
    "Within binary search, compare the target value to the middle element of the array at each iteration.\n",
    "\n",
    "- If the target value is equal to the middle element, the job is done.\n",
    "\n",
    "- If the target value is less than the middle element, continue to search on the left.\n",
    "\n",
    "- If the target value is greater than the middle element, continue to search on the right.\n",
    "\n"
   ]
  },
  {
   "cell_type": "markdown",
   "metadata": {},
   "source": [
    "**Algorithm**\n",
    "\n",
    "- Initialize the left and right pointers : `left = 0`, `right = n - 1`.\n",
    "\n",
    "- While `left <= right`: \n",
    "\n",
    "- Compare middle element of the array `nums[pivot]` to the target value `target`.\n",
    "\n",
    "- If the middle element is the `target`, i.e. `target == nums[pivot]`: return `pivot`.\n",
    "\n",
    "- If the `target` is not here: \n",
    "\n",
    "- If `target < nums[pivot]`, continue to search on the left subarray. `right = pivot - 1`.\n",
    "\n",
    "- Else continue to search on the right subarray. `left = pivot + 1`.\n",
    "\n",
    "- Return left."
   ]
  },
  {
   "cell_type": "code",
   "execution_count": 12,
   "metadata": {},
   "outputs": [],
   "source": [
    "# Binary Search\n",
    "\n",
    "class Solution:\n",
    "    def searchInsert(self, nums, target):\n",
    "        left, right = 0, len(nums) - 1\n",
    "        while left <= right:\n",
    "            pivot = (left + right) // 2\n",
    "            if nums[pivot] == target:\n",
    "                return pivot\n",
    "            if target < nums[pivot]:\n",
    "                right = pivot - 1\n",
    "            else:\n",
    "                left = pivot + 1\n",
    "        return left"
   ]
  },
  {
   "cell_type": "code",
   "execution_count": null,
   "metadata": {},
   "outputs": [],
   "source": []
  },
  {
   "cell_type": "markdown",
   "metadata": {},
   "source": [
    "### 852. Peak Index in a Mountain Array"
   ]
  },
  {
   "cell_type": "markdown",
   "metadata": {},
   "source": [
    "Let's call an array `arr` a **mountain** if the following properties hold:\n",
    "\n",
    "1. `arr.length >= 3`\n",
    "\n",
    "2. There exists some `i` with `0 < i < arr.length - 1` such that:\n",
    "\n",
    "    - `arr[0] < arr[1] < ... arr[i-1] < arr[i]`\n",
    "    \n",
    "    - `arr[i] > arr[i+1] > ... > arr[arr.length - 1]`\n",
    "    \n",
    "Given an integer array `arr` that is guaranteed to be a mountain, \n",
    "\n",
    "return any `i` such that `arr[0] < arr[1] < ... arr[i - 1] < arr[i] > arr[i + 1] > ... > arr[arr.length - 1]`\n",
    "\n",
    "*Constraints:*\n",
    "\n",
    "- `3 <= arr.length <= 104`\n",
    "- `0 <= arr[i] <= 106`\n",
    "- `arr` is guaranteed to be a mountain array.\n"
   ]
  },
  {
   "cell_type": "code",
   "execution_count": 19,
   "metadata": {},
   "outputs": [],
   "source": [
    "# O(N) Linear Scan\n",
    "# The mountain increases until it doesn't. The point at which it stops increasing is the peak.\n",
    "\n",
    "class Solution(object):\n",
    "    def peakIndexInMountainArray(self, arr):\n",
    "        for i in range(len(arr)):\n",
    "            if arr[i] > arr[i+1]:\n",
    "                return i"
   ]
  },
  {
   "cell_type": "code",
   "execution_count": 24,
   "metadata": {},
   "outputs": [],
   "source": [
    "arr1 = [3,4,5,1]   # 2\n",
    "arr2 = [24,69,100,99,79,78,67,36,26,19]  # 2"
   ]
  },
  {
   "cell_type": "code",
   "execution_count": 25,
   "metadata": {},
   "outputs": [
    {
     "data": {
      "text/plain": [
       "2"
      ]
     },
     "execution_count": 25,
     "metadata": {},
     "output_type": "execute_result"
    }
   ],
   "source": [
    "test = Solution()\n",
    "test.peakIndexInMountainArray(arr1)"
   ]
  },
  {
   "cell_type": "code",
   "execution_count": 26,
   "metadata": {},
   "outputs": [
    {
     "data": {
      "text/plain": [
       "2"
      ]
     },
     "execution_count": 26,
     "metadata": {},
     "output_type": "execute_result"
    }
   ],
   "source": [
    "test.peakIndexInMountainArray(arr2)"
   ]
  },
  {
   "cell_type": "markdown",
   "metadata": {},
   "source": [
    "**Binary Search**\n",
    "\n",
    "**to decrease the time complexity from O(N) to O(Nlog(N))**\n",
    "\n",
    "The comparison `A[i] < A[i+1]` in a mountain array looks like `[True, True, True, ..., True, False, False, ..., False]`: 1 or more boolean Trues, followed by 1 or more boolean False. For example, in the mountain array `[1, 2, 3, 4, 1]`, the comparisons `A[i] < A[i+1]` would be `True, True, True, False`.\n",
    "\n",
    "binary search over the array of comparisons, to find the **largest index `i`** such that **`A[i] < A[i+1]`**"
   ]
  },
  {
   "cell_type": "code",
   "execution_count": 23,
   "metadata": {},
   "outputs": [],
   "source": [
    "# O(Nlog(N)) with binary search\n",
    "# Space Complexity: O(1)\n",
    "\n",
    "class Solution(object):\n",
    "    def peakIndexInMountainArray(self, arr):\n",
    "        low, high = 0, len(arr)-1\n",
    "        while low < high:\n",
    "            mid = (low + high) // 2 \n",
    "            if arr[mid] < arr[mid+1]:\n",
    "                low = mid + 1\n",
    "            else:\n",
    "                high = mid\n",
    "        return low"
   ]
  },
  {
   "cell_type": "code",
   "execution_count": 27,
   "metadata": {},
   "outputs": [],
   "source": [
    "arr1 = [3,4,5,1]   # 2\n",
    "arr2 = [24,69,100,99,79,78,67,36,26,19]  # 2"
   ]
  },
  {
   "cell_type": "code",
   "execution_count": 28,
   "metadata": {},
   "outputs": [
    {
     "data": {
      "text/plain": [
       "2"
      ]
     },
     "execution_count": 28,
     "metadata": {},
     "output_type": "execute_result"
    }
   ],
   "source": [
    "test = Solution()\n",
    "test.peakIndexInMountainArray(arr1)"
   ]
  },
  {
   "cell_type": "code",
   "execution_count": 29,
   "metadata": {},
   "outputs": [
    {
     "data": {
      "text/plain": [
       "2"
      ]
     },
     "execution_count": 29,
     "metadata": {},
     "output_type": "execute_result"
    }
   ],
   "source": [
    "test.peakIndexInMountainArray(arr2)"
   ]
  },
  {
   "cell_type": "code",
   "execution_count": null,
   "metadata": {},
   "outputs": [],
   "source": []
  }
 ],
 "metadata": {
  "kernelspec": {
   "display_name": "Python 3",
   "language": "python",
   "name": "python3"
  },
  "language_info": {
   "codemirror_mode": {
    "name": "ipython",
    "version": 3
   },
   "file_extension": ".py",
   "mimetype": "text/x-python",
   "name": "python",
   "nbconvert_exporter": "python",
   "pygments_lexer": "ipython3",
   "version": "3.7.0"
  }
 },
 "nbformat": 4,
 "nbformat_minor": 4
}
