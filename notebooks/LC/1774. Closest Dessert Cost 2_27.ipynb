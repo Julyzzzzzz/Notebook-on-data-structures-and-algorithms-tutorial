{
 "cells": [
  {
   "cell_type": "markdown",
   "metadata": {},
   "source": [
    "..."
   ]
  },
  {
   "cell_type": "code",
   "execution_count": 2,
   "metadata": {},
   "outputs": [],
   "source": [
    "# mine\n",
    "class Solution(object):\n",
    "    def closestCost(self, baseCosts, toppingCosts, target):\n",
    "        \"\"\"\n",
    "        :type baseCosts: List[int]\n",
    "        :type toppingCosts: List[int]\n",
    "        :type target: int\n",
    "        :rtype: int\n",
    "        \"\"\"\n",
    "        if len(baseCosts) == 1 and baseCosts[0] > target:\n",
    "            return baseCosts[0]\n",
    "        addsup = 0\n",
    "        if len(baseCosts) == 1 and len(toppingCosts) == 1:\n",
    "            addsup = baseCosts[0] + toppingCosts[0]\n",
    "        toppingCosts = toppingCosts*2\n",
    "        res = []\n",
    "        for i in baseCosts:\n",
    "            newTarget = target - i\n",
    "            #print (newTarget)\n",
    "            if newTarget >= 0:\n",
    "                res.append(self.helper(toppingCosts, newTarget)+i)\n",
    "        if addsup != 0:\n",
    "            if abs((addsup - target)) < abs((max(res)-target)):\n",
    "                return addsup\n",
    "        diff = abs(baseCosts[0]-target)\n",
    "        which = 0\n",
    "        for index, val in enumerate(baseCosts):\n",
    "            d = abs(val-target)\n",
    "            if d < diff:\n",
    "                diff = d\n",
    "                which = index\n",
    "        if res and target in res:\n",
    "            return target\n",
    "        if res and diff > abs(max(res)-target):\n",
    "            return max(res)\n",
    "        else:\n",
    "            return baseCosts[which]\n",
    "    \n",
    "    def helper(self, toppingCosts, target):\n",
    "        if target <0 or not toppingCosts:\n",
    "            return 0\n",
    "        else:\n",
    "            top = toppingCosts[0]\n",
    "            toppingCosts = toppingCosts[1:]\n",
    "            if top > target:\n",
    "                maxi = self.helper(toppingCosts, target)\n",
    "            else:\n",
    "                withTop = top + self.helper(toppingCosts, target-top)\n",
    "                without = self.helper(toppingCosts, target)\n",
    "                maxi = max(withTop, without)\n",
    "            toppingCosts = toppingCosts + [top]\n",
    "            #print(\"maxi:\", maxi)\n",
    "            return maxi\n",
    " "
   ]
  },
  {
   "cell_type": "markdown",
   "metadata": {},
   "source": [
    "https://docs.python.org/3/library/functools.html"
   ]
  },
  {
   "cell_type": "markdown",
   "metadata": {},
   "source": [
    "`@functools.cache(user_function)`\n",
    "Simple lightweight unbounded function `cache.` Sometimes called `“memoize”`.\n",
    "\n",
    "Returns the same as `lru_cache(maxsize=None)`, creating a thin wrapper around a dictionary lookup for the function arguments. Because it never needs to evict old values, this is smaller and faster than `lru_cache()` with a size limit."
   ]
  },
  {
   "cell_type": "code",
   "execution_count": null,
   "metadata": {},
   "outputs": [],
   "source": []
  }
 ],
 "metadata": {
  "kernelspec": {
   "display_name": "Python 3",
   "language": "python",
   "name": "python3"
  },
  "language_info": {
   "codemirror_mode": {
    "name": "ipython",
    "version": 3
   },
   "file_extension": ".py",
   "mimetype": "text/x-python",
   "name": "python",
   "nbconvert_exporter": "python",
   "pygments_lexer": "ipython3",
   "version": "3.7.0"
  }
 },
 "nbformat": 4,
 "nbformat_minor": 4
}
