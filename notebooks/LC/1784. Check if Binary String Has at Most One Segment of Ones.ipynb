{
 "cells": [
  {
   "cell_type": "markdown",
   "metadata": {},
   "source": [
    "Given a binary string s without leading zeros, return true if s contains at most one contiguous segment of ones. Otherwise, return false."
   ]
  },
  {
   "cell_type": "markdown",
   "metadata": {},
   "source": [
    "Solution: \n",
    "\n",
    "increase `counter` if `s[i] == '1'` otherwise, reset `counter`.\n",
    "\n",
    "increase counts when `counter` becomes 1.\n",
    "\n",
    "return counts == 1\n",
    "\n",
    "Time complexity: O(n)\n",
    "\n",
    "Space complexity: O(1)"
   ]
  },
  {
   "cell_type": "markdown",
   "metadata": {},
   "source": [
    "*Solution 1*\n",
    "\n",
    "Time O(n), space O(1)."
   ]
  },
  {
   "cell_type": "code",
   "execution_count": 1,
   "metadata": {},
   "outputs": [],
   "source": [
    "# huahua\n",
    "def checkOnesSegment(self, s):\n",
    "        return '01' not in s"
   ]
  },
  {
   "cell_type": "markdown",
   "metadata": {},
   "source": [
    "*Solution 2*\n",
    "\n",
    "If strip all 0s, it should left only 1s\n",
    "\n",
    "Then strip 1s, nothing left.\n",
    "\n",
    "I don't know why, but string s doesn't have leading zeros.\n",
    "\n",
    "This solution also works for s with leading zeros.\n",
    "\n",
    "Time O(n), space O(n)"
   ]
  },
  {
   "cell_type": "code",
   "execution_count": 3,
   "metadata": {},
   "outputs": [],
   "source": [
    "# huahua\n",
    "def checkOnesSegment(self, s):\n",
    "        return not s.strip('0').strip('1')"
   ]
  },
  {
   "cell_type": "code",
   "execution_count": null,
   "metadata": {},
   "outputs": [],
   "source": []
  }
 ],
 "metadata": {
  "kernelspec": {
   "display_name": "Python 3",
   "language": "python",
   "name": "python3"
  },
  "language_info": {
   "codemirror_mode": {
    "name": "ipython",
    "version": 3
   },
   "file_extension": ".py",
   "mimetype": "text/x-python",
   "name": "python",
   "nbconvert_exporter": "python",
   "pygments_lexer": "ipython3",
   "version": "3.7.0"
  }
 },
 "nbformat": 4,
 "nbformat_minor": 4
}
