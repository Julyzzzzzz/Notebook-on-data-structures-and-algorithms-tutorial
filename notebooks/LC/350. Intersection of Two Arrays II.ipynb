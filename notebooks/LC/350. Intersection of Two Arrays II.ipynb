{
 "cells": [
  {
   "cell_type": "code",
   "execution_count": null,
   "metadata": {},
   "outputs": [],
   "source": [
    "class Solution(object):\n",
    "    def intersect(self, nums1, nums2):\n",
    "        \"\"\"\n",
    "        :type nums1: List[int]\n",
    "        :type nums2: List[int]\n",
    "        :rtype: List[int]\n",
    "        \"\"\"\n",
    "        if len(nums1) > len(nums2):\n",
    "            nums1, nums2 = nums2, nums1\n",
    "        \n",
    "        c = Counter(nums1)\n",
    "        res = []\n",
    "        set1 = set(nums1)\n",
    "        set2 = set(nums2)\n",
    "        res = []\n",
    "        for x in nums2:\n",
    "            if c[x] > 0:\n",
    "                res.append(x)\n",
    "                c[x] -= 1\n",
    "        return res"
   ]
  }
 ],
 "metadata": {
  "kernelspec": {
   "display_name": "Python 3",
   "language": "python",
   "name": "python3"
  },
  "language_info": {
   "codemirror_mode": {
    "name": "ipython",
    "version": 3
   },
   "file_extension": ".py",
   "mimetype": "text/x-python",
   "name": "python",
   "nbconvert_exporter": "python",
   "pygments_lexer": "ipython3",
   "version": "3.7.0"
  }
 },
 "nbformat": 4,
 "nbformat_minor": 4
}
