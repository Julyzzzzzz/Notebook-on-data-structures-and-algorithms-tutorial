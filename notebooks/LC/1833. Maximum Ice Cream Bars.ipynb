{
 "cells": [
  {
   "cell_type": "code",
   "execution_count": 1,
   "id": "8a5c8d24",
   "metadata": {},
   "outputs": [],
   "source": [
    "def maxIceCream(self, A, coins):\n",
    "        A.sort()\n",
    "        for i, a in enumerate(A):\n",
    "            coins -= a\n",
    "            if coins < 0:\n",
    "                return i\n",
    "        return len(A)"
   ]
  },
  {
   "cell_type": "code",
   "execution_count": null,
   "id": "9a4d4898",
   "metadata": {},
   "outputs": [],
   "source": []
  }
 ],
 "metadata": {
  "kernelspec": {
   "display_name": "Python 3",
   "language": "python",
   "name": "python3"
  },
  "language_info": {
   "codemirror_mode": {
    "name": "ipython",
    "version": 3
   },
   "file_extension": ".py",
   "mimetype": "text/x-python",
   "name": "python",
   "nbconvert_exporter": "python",
   "pygments_lexer": "ipython3",
   "version": "3.9.1"
  }
 },
 "nbformat": 4,
 "nbformat_minor": 5
}
