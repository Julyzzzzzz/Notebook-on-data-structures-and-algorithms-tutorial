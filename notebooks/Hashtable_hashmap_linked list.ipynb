{
 "cells": [
  {
   "cell_type": "markdown",
   "metadata": {},
   "source": [
    "### Hashmap  (AKA dictionary, hash table, associative array)\n",
    "\n",
    "[Youtube](https://www.youtube.com/watch?v=9HFbhPscPU0&t=20s)"
   ]
  },
  {
   "cell_type": "markdown",
   "metadata": {},
   "source": [
    "- a hashmap is a set of key-value pairs \n",
    "\n",
    "- no duplicate keys\n",
    "\n",
    "- O(1) for add, get, delete functions\n",
    "\n",
    "- also called dictionary, map, hash table, associative array\n",
    "\n",
    "- in Python, use *dict*"
   ]
  },
  {
   "cell_type": "markdown",
   "metadata": {},
   "source": [
    "#### Three main components of a Hashmap\n",
    "\n",
    "- Array - data structure used to store the data\n",
    "\n",
    "- Hash function - function to convert key into an array index\n",
    "\n",
    "- Collision handling"
   ]
  },
  {
   "cell_type": "markdown",
   "metadata": {},
   "source": [
    "#### Example:\n",
    "beans -> 1.85; corn -> 2.38; rice -> 1.92\n",
    "\n",
    "> Hash fucntion: index = len(key) -1\n",
    "\n",
    "eg. get('beans'), index = 5-1 = 4\n",
    "\n",
    "eg. add('corn', 2.38), add('rice', 1.92)\n",
    "\n",
    "\n",
    "> A better hash function: index = sum(ASCII value for each letter in key) % 5\n",
    "\n",
    "for char in key:\n",
    "\n",
    "    hash += ord(char)\n",
    "\n",
    "hash %= 5"
   ]
  },
  {
   "cell_type": "code",
   "execution_count": 13,
   "metadata": {},
   "outputs": [],
   "source": [
    "class HashMap:\n",
    "    def __init__(self):\n",
    "        self.size = 6\n",
    "        self.map = [None] * self.size\n",
    "\n",
    "        def _get_hash(self, key):\n",
    "            hash = 0\n",
    "            for char in str(key):\n",
    "                hash += ord(char)\n",
    "            return hash % self.size\n",
    "\n",
    "        def add(self, key, value):\n",
    "            key_hash = self._get_hash(key)\n",
    "            key_value = [key, value]\n",
    "            \n",
    "            if self.map[key_hash] is None:\n",
    "                self.map[key_hash] = list([key_value])\n",
    "                return True\n",
    "            else:\n",
    "                for pair in self.map[key_hash]:\n",
    "                    if pair[0] == key:\n",
    "                        pair[1] = value\n",
    "                        return True\n",
    "                self.map[key_hash].append(key_value)\n",
    "                return True\n",
    "\n",
    "        def get(self, key):\n",
    "            key_hash = self._get_hash(key)\n",
    "            if self.map[key_hash] is not None:\n",
    "                for pair in self.map[key_hash]:\n",
    "                    if pair[0] == key:\n",
    "                        return pair[1]\n",
    "            return None\n",
    "\n",
    "        def delete(self, key):\n",
    "            key_hash = self._get_hash(key)\n",
    "            \n",
    "            if self.map[key_hash] is None:\n",
    "                return False\n",
    "            for i in range (0, len(self.map[key_hash])):\n",
    "                if self.map[key_hash][i][0] == key:\n",
    "                    self.map[key_hash].pop(i)\n",
    "                    return True\n",
    "            return False\n",
    "\n",
    "        def keys(self):\n",
    "            arr = []\n",
    "            for i in range(0, len(self.map)):\n",
    "                if self.map[i]:\n",
    "                    arr.append(self.map[i][0])\n",
    "            return arr\n",
    "\n",
    "        def print(self):\n",
    "                print('---PHONEBOOK----')\n",
    "                for item in self.map:\n",
    "                        if item is not None:\n",
    "                                print(str(item))"
   ]
  },
  {
   "cell_type": "code",
   "execution_count": 14,
   "metadata": {},
   "outputs": [
    {
     "ename": "AttributeError",
     "evalue": "'HashMap' object has no attribute 'add'",
     "output_type": "error",
     "traceback": [
      "\u001b[0;31m---------------------------------------------------------------------------\u001b[0m",
      "\u001b[0;31mAttributeError\u001b[0m                            Traceback (most recent call last)",
      "\u001b[0;32m<ipython-input-14-9571ccd262d5>\u001b[0m in \u001b[0;36m<module>\u001b[0;34m\u001b[0m\n\u001b[1;32m      1\u001b[0m \u001b[0mh\u001b[0m \u001b[0;34m=\u001b[0m \u001b[0mHashMap\u001b[0m\u001b[0;34m(\u001b[0m\u001b[0;34m)\u001b[0m\u001b[0;34m\u001b[0m\u001b[0m\n\u001b[0;32m----> 2\u001b[0;31m \u001b[0mh\u001b[0m\u001b[0;34m.\u001b[0m\u001b[0madd\u001b[0m\u001b[0;34m(\u001b[0m\u001b[0;34m'Bob'\u001b[0m\u001b[0;34m,\u001b[0m \u001b[0;34m'567-8888'\u001b[0m\u001b[0;34m)\u001b[0m\u001b[0;34m\u001b[0m\u001b[0m\n\u001b[0m\u001b[1;32m      3\u001b[0m \u001b[0mh\u001b[0m\u001b[0;34m.\u001b[0m\u001b[0madd\u001b[0m\u001b[0;34m(\u001b[0m\u001b[0;34m'Ming'\u001b[0m\u001b[0;34m,\u001b[0m \u001b[0;34m'293-6753'\u001b[0m\u001b[0;34m)\u001b[0m\u001b[0;34m\u001b[0m\u001b[0m\n\u001b[1;32m      4\u001b[0m \u001b[0mh\u001b[0m\u001b[0;34m.\u001b[0m\u001b[0madd\u001b[0m\u001b[0;34m(\u001b[0m\u001b[0;34m'Ming'\u001b[0m\u001b[0;34m,\u001b[0m \u001b[0;34m'333-8233'\u001b[0m\u001b[0;34m)\u001b[0m\u001b[0;34m\u001b[0m\u001b[0m\n\u001b[1;32m      5\u001b[0m \u001b[0mh\u001b[0m\u001b[0;34m.\u001b[0m\u001b[0madd\u001b[0m\u001b[0;34m(\u001b[0m\u001b[0;34m'Ankit'\u001b[0m\u001b[0;34m,\u001b[0m \u001b[0;34m'293-8625'\u001b[0m\u001b[0;34m)\u001b[0m\u001b[0;34m\u001b[0m\u001b[0m\n",
      "\u001b[0;31mAttributeError\u001b[0m: 'HashMap' object has no attribute 'add'"
     ]
    }
   ],
   "source": [
    "h = HashMap()\n",
    "h.add('Bob', '567-8888')\n",
    "h.add('Ming', '293-6753')\n",
    "h.add('Ming', '333-8233')\n",
    "h.add('Ankit', '293-8625')\n",
    "h.add('Aditya', '852-6551')\n",
    "h.add('Alicia', '632-4123')\n",
    "h.add('Mike', '567-2188')\n",
    "h.add('Aditya', '777-8888')"
   ]
  },
  {
   "cell_type": "code",
   "execution_count": 8,
   "metadata": {},
   "outputs": [
    {
     "ename": "AttributeError",
     "evalue": "'HashMap' object has no attribute 'print'",
     "output_type": "error",
     "traceback": [
      "\u001b[0;31m---------------------------------------------------------------------------\u001b[0m",
      "\u001b[0;31mAttributeError\u001b[0m                            Traceback (most recent call last)",
      "\u001b[0;32m<ipython-input-8-6a503c67fa47>\u001b[0m in \u001b[0;36m<module>\u001b[0;34m\u001b[0m\n\u001b[0;32m----> 1\u001b[0;31m \u001b[0mh\u001b[0m\u001b[0;34m.\u001b[0m\u001b[0mprint\u001b[0m\u001b[0;34m(\u001b[0m\u001b[0;34m)\u001b[0m\u001b[0;34m\u001b[0m\u001b[0m\n\u001b[0m",
      "\u001b[0;31mAttributeError\u001b[0m: 'HashMap' object has no attribute 'print'"
     ]
    }
   ],
   "source": [
    "h.print()"
   ]
  },
  {
   "cell_type": "code",
   "execution_count": 15,
   "metadata": {},
   "outputs": [
    {
     "ename": "AttributeError",
     "evalue": "'HashMap' object has no attribute 'delete'",
     "output_type": "error",
     "traceback": [
      "\u001b[0;31m---------------------------------------------------------------------------\u001b[0m",
      "\u001b[0;31mAttributeError\u001b[0m                            Traceback (most recent call last)",
      "\u001b[0;32m<ipython-input-15-cf736fdfc35b>\u001b[0m in \u001b[0;36m<module>\u001b[0;34m\u001b[0m\n\u001b[0;32m----> 1\u001b[0;31m \u001b[0mh\u001b[0m\u001b[0;34m.\u001b[0m\u001b[0mdelete\u001b[0m\u001b[0;34m(\u001b[0m\u001b[0;34m'Bob'\u001b[0m\u001b[0;34m)\u001b[0m\u001b[0;34m\u001b[0m\u001b[0m\n\u001b[0m",
      "\u001b[0;31mAttributeError\u001b[0m: 'HashMap' object has no attribute 'delete'"
     ]
    }
   ],
   "source": [
    "h.delete('Bob')\n",
    "h.print()"
   ]
  },
  {
   "cell_type": "code",
   "execution_count": null,
   "metadata": {},
   "outputs": [],
   "source": [
    "print('Ming: ' + h.get('Ming'))\n",
    "print(h.keys())"
   ]
  }
 ],
 "metadata": {
  "kernelspec": {
   "display_name": "Python 3",
   "language": "python",
   "name": "python3"
  },
  "language_info": {
   "codemirror_mode": {
    "name": "ipython",
    "version": 3
   },
   "file_extension": ".py",
   "mimetype": "text/x-python",
   "name": "python",
   "nbconvert_exporter": "python",
   "pygments_lexer": "ipython3",
   "version": "3.7.0"
  }
 },
 "nbformat": 4,
 "nbformat_minor": 4
}
