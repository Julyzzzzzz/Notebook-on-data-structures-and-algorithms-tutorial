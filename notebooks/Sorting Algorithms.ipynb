{
 "cells": [
  {
   "cell_type": "markdown",
   "metadata": {},
   "source": [
    "The best way to learn sorting algorithms is by understanding two things:\n",
    "\n",
    "1. The underlying principle behind the algorithm\n",
    "\n",
    "2. What a simple visualization of the algorithm looks like."
   ]
  },
  {
   "cell_type": "markdown",
   "metadata": {},
   "source": [
    "visualizing sorting algorithms: \n",
    "\n",
    "https://www.toptal.com/developers/sorting-algorithms\n",
    "\n",
    "https://visualgo.net/en/sorting\n"
   ]
  },
  {
   "cell_type": "markdown",
   "metadata": {},
   "source": [
    "1. Bubble sort\n",
    "2. Selection sort\n",
    "3. Insertion sort\n",
    "4. Shell sort\n",
    "5. Merge sort\n",
    "6. Quick sort"
   ]
  },
  {
   "cell_type": "markdown",
   "metadata": {},
   "source": [
    "### Bubble sort"
   ]
  },
  {
   "cell_type": "markdown",
   "metadata": {},
   "source": [
    "- The bubble sort makes multiple passes through a list. \n",
    "- It compares **adjacent items** and exchanges those that are out of order. \n",
    "- Each pass through the list places the next largest value in its proper place. \n",
    "- **Each item “bubbles” up** to the location where it belongs.\n",
    "\n",
    "when there is N items, there will be N-1 pairs of items need to be compared on the first pass.\n",
    "\n",
    "for the second pass, there will be N-1 items need to be sort, since the largetst one will be in place after first pass, there will be N-2 pairs need to be sort."
   ]
  },
  {
   "cell_type": "markdown",
   "metadata": {},
   "source": [
    "The bubble sort makes multiple passes through a list. It compares adjacent items and exchanges those that are out of order. Each pass through the list places the next largest value in its proper place. In essence, each item “bubbles” up to the location where it belongs."
   ]
  },
  {
   "cell_type": "code",
   "execution_count": 18,
   "metadata": {},
   "outputs": [],
   "source": [
    "def bubble_sort(arr):\n",
    "    # For every element (arranged backwards)\n",
    "    for n in range(len(arr)-1,0,-1):\n",
    "        for k in range(n):\n",
    "            # If we come to a point to switch\n",
    "            if arr[k]>arr[k+1]:\n",
    "                temp = arr[k]\n",
    "                arr[k] = arr[k+1]\n",
    "                arr[k+1] = temp"
   ]
  },
  {
   "cell_type": "code",
   "execution_count": 19,
   "metadata": {},
   "outputs": [
    {
     "data": {
      "text/plain": [
       "range(9, 0, -1)"
      ]
     },
     "execution_count": 19,
     "metadata": {},
     "output_type": "execute_result"
    }
   ],
   "source": [
    "arr = [3,2,13,4,6,5,7,8,1,20]\n",
    "range(len(arr)-1,0,-1)\n",
    "# 10 items, do 9 comparison, and then 8, until 1"
   ]
  },
  {
   "cell_type": "code",
   "execution_count": 20,
   "metadata": {},
   "outputs": [],
   "source": [
    "def bubble_sort_test(arr):\n",
    "    for n in range(len(arr)-1,0,-1):\n",
    "        print ('this is the n: ', n)\n",
    "        for k in range(n):\n",
    "            print ('this is the k index check: ', k)\n",
    "            if arr[k]>arr[k+1]:\n",
    "                temp = arr[k]\n",
    "                arr[k] = arr[k+1]\n",
    "                arr[k+1] = temp"
   ]
  },
  {
   "cell_type": "code",
   "execution_count": 21,
   "metadata": {},
   "outputs": [
    {
     "name": "stdout",
     "output_type": "stream",
     "text": [
      "this is the n:  3\n",
      "this is the k index check:  0\n",
      "this is the k index check:  1\n",
      "this is the k index check:  2\n",
      "this is the n:  2\n",
      "this is the k index check:  0\n",
      "this is the k index check:  1\n",
      "this is the n:  1\n",
      "this is the k index check:  0\n"
     ]
    }
   ],
   "source": [
    "arr1 = [5,3,7,2]\n",
    "bubble_sort_test(arr1)"
   ]
  },
  {
   "cell_type": "code",
   "execution_count": 27,
   "metadata": {},
   "outputs": [
    {
     "data": {
      "text/plain": [
       "[1, 2, 3, 4, 5, 6, 7, 8, 13, 20]"
      ]
     },
     "execution_count": 27,
     "metadata": {},
     "output_type": "execute_result"
    }
   ],
   "source": [
    "arr = [3,2,13,4,6,5,7,8,1,20]\n",
    "bubble_sort(arr)\n",
    "arr"
   ]
  },
  {
   "cell_type": "code",
   "execution_count": null,
   "metadata": {},
   "outputs": [],
   "source": []
  },
  {
   "cell_type": "markdown",
   "metadata": {},
   "source": [
    "### Selection Sort"
   ]
  },
  {
   "cell_type": "markdown",
   "metadata": {},
   "source": [
    "- The selection sort improves on the bubble sort by **making only one exchange for every pass** through the list\n",
    "- A selection sort **looks for the largest values or minimum** as it makes a pass and, after completing the pass, places it in the proper location.\n",
    "- After the first pass, the largest item is in the correct place. After the second pass, the next largest is in pace.\n",
    "- The process continues and requires **n-1** passes to sort **n** items, since the final item myst be in place after the (n-1)st place"
   ]
  },
  {
   "cell_type": "markdown",
   "metadata": {},
   "source": [
    "The selection sort improves on the bubble sort by making only one exchange for every pass through the list. In order to do this, a selection sort looks for the largest value as it makes a pass and, after completing the pass, places it in the proper location. As with a bubble sort, after the first pass, the largest item is in the correct place. After the second pass, the next largest is in place. This process continues and requires n−1 passes to sort n items, since the final item must be in place after the (n−1) st pass."
   ]
  },
  {
   "cell_type": "code",
   "execution_count": 24,
   "metadata": {},
   "outputs": [],
   "source": [
    "def selection_sort(arr):   \n",
    "    # For every slot in array\n",
    "    for fillslot in range(len(arr)-1 , 0, -1):\n",
    "        # start with the first element, set the first element of max\n",
    "        positionOfMax = 0\n",
    " \n",
    "        # For every set of 0 to fillslot+1\n",
    "        for location in range(1, fillslot+1):\n",
    "            # Set maximum's location\n",
    "            if arr[location]>arr[positionOfMax]:\n",
    "                positionOfMax = location\n",
    "\n",
    "        temp = arr[fillslot]\n",
    "        arr[fillslot] = arr[positionOfMax]\n",
    "        arr[positionOfMax] = temp"
   ]
  },
  {
   "cell_type": "code",
   "execution_count": 25,
   "metadata": {},
   "outputs": [
    {
     "data": {
      "text/plain": [
       "[2, 3, 5, 6, 7, 8, 12, 21, 40]"
      ]
     },
     "execution_count": 25,
     "metadata": {},
     "output_type": "execute_result"
    }
   ],
   "source": [
    "arr = [3,5,2,7,6,8,12,40,21]\n",
    "selection_sort(arr)\n",
    "arr"
   ]
  },
  {
   "cell_type": "code",
   "execution_count": 33,
   "metadata": {},
   "outputs": [],
   "source": [
    "def selection_sort_test(arr):   \n",
    "    for fillslot in range(len(arr)-1 , 0, -1):\n",
    "        print('fillslot index: ', fillslot)\n",
    "        positionOfMax = 0\n",
    "        \n",
    "        for location in range(1, fillslot+1):\n",
    "            print('location: ', location)\n",
    "            if arr[location]>arr[positionOfMax]:\n",
    "                positionOfMax = location\n",
    "                print('positionOdMax: ', positionOfMax)\n",
    "                \n",
    "\n",
    "        temp = arr[fillslot]\n",
    "        arr[fillslot] = arr[positionOfMax]\n",
    "        arr[positionOfMax] = temp\n",
    "        print(arr)"
   ]
  },
  {
   "cell_type": "code",
   "execution_count": 34,
   "metadata": {},
   "outputs": [
    {
     "name": "stdout",
     "output_type": "stream",
     "text": [
      "fillslot index:  3\n",
      "location:  1\n",
      "positionOdMax:  1\n",
      "location:  2\n",
      "location:  3\n",
      "positionOdMax:  3\n",
      "[3, 5, 2, 7]\n",
      "fillslot index:  2\n",
      "location:  1\n",
      "positionOdMax:  1\n",
      "location:  2\n",
      "[3, 2, 5, 7]\n",
      "fillslot index:  1\n",
      "location:  1\n",
      "[2, 3, 5, 7]\n"
     ]
    },
    {
     "data": {
      "text/plain": [
       "[2, 3, 5, 7]"
      ]
     },
     "execution_count": 34,
     "metadata": {},
     "output_type": "execute_result"
    }
   ],
   "source": [
    "arr1 = [3,5,2,7]\n",
    "selection_sort_test(arr1)\n",
    "arr1"
   ]
  },
  {
   "cell_type": "code",
   "execution_count": null,
   "metadata": {},
   "outputs": [],
   "source": []
  },
  {
   "cell_type": "markdown",
   "metadata": {},
   "source": [
    "### Insertion Sort"
   ]
  },
  {
   "cell_type": "markdown",
   "metadata": {},
   "source": [
    "- The insertion sort always maintains a sorted sublist in the lower positions of the list. \n",
    "- Each new item is then “inserted” back into the previous sublist such that the sorted sublist is one item larger.\n",
    "- We **begin by assuming that a list with one item (position 0) is already sorted.** \n",
    "- On each pass, one for each item 1 through n−1, the current item is checked against those in the already sorted sublist. \n",
    "- As we look back into the already sorted sublist, we **shift those items that are greater to the right**. \n",
    "- When we reach a smaller item or the end of the sublist, the current item can be inserted."
   ]
  },
  {
   "cell_type": "markdown",
   "metadata": {},
   "source": [
    "Insertion Sort builds the final sorted array (or list) **one item at a time**. It is **much less efficient on large lists** than more advanced algorithms such as quicksort, heapsort, or merge sort."
   ]
  },
  {
   "cell_type": "code",
   "execution_count": 49,
   "metadata": {},
   "outputs": [],
   "source": [
    "def insertion_sort(arr):\n",
    "    \n",
    "    # For every index in array, start with the second element\n",
    "    for i in range(1,len(arr)):\n",
    "        \n",
    "        # Set current values and position\n",
    "        currentvalue = arr[i]\n",
    "        position = i\n",
    "        \n",
    "        # Sorted Sublist\n",
    "        while position>0 and arr[position-1]>currentvalue:\n",
    "            \n",
    "            arr[position]=arr[position-1]\n",
    "            position = position-1\n",
    "\n",
    "        arr[position]=currentvalue"
   ]
  },
  {
   "cell_type": "code",
   "execution_count": 50,
   "metadata": {},
   "outputs": [
    {
     "data": {
      "text/plain": [
       "[1, 2, 3, 4, 5, 6, 8, 12, 25, 41]"
      ]
     },
     "execution_count": 50,
     "metadata": {},
     "output_type": "execute_result"
    }
   ],
   "source": [
    "arr =[3,5,4,6,8,1,2,12,41,25]\n",
    "insertion_sort(arr)\n",
    "arr"
   ]
  },
  {
   "cell_type": "code",
   "execution_count": null,
   "metadata": {},
   "outputs": [],
   "source": []
  },
  {
   "cell_type": "markdown",
   "metadata": {},
   "source": [
    "### Shell sort"
   ]
  },
  {
   "cell_type": "markdown",
   "metadata": {},
   "source": [
    "- The shell sort **improves on the insertion sort** by **breaking the original list into a number of smaller sublists**\n",
    "- The unique way that these sublists are chosen is the key to the shell sort. \n",
    "- Instead of breaking the list into sublists of contiguous items, the shell sort uses an **increment `i` to create a sublist by choosing all items that are `i` items apart.**"
   ]
  },
  {
   "cell_type": "code",
   "execution_count": 34,
   "metadata": {},
   "outputs": [],
   "source": [
    "def shell_sort(arr):\n",
    "    sublistcount = len(arr) // 2\n",
    "    \n",
    "    # While we still have sub lists\n",
    "    while sublistcount > 0:\n",
    "        for start in range(sublistcount):\n",
    "            # Use a gap insertion\n",
    "            gap_insertion_sort(arr,start,sublistcount)\n",
    "            print(\"after increment size \", sublistcount, \"arr becomes:\", arr)\n",
    "\n",
    "      \n",
    "\n",
    "        sublistcount = sublistcount // 2\n",
    "\n",
    "def gap_insertion_sort(arr,start,gap):\n",
    "    for i in range(start+gap,len(arr),gap):\n",
    "\n",
    "        currentvalue = arr[i]\n",
    "        position = i\n",
    "\n",
    "        # Using the Gap\n",
    "        while position>=gap and arr[position-gap]>currentvalue:\n",
    "            arr[position]=arr[position-gap]\n",
    "            position = position-gap\n",
    "        \n",
    "        # Set current value\n",
    "        arr[position]=currentvalue"
   ]
  },
  {
   "cell_type": "code",
   "execution_count": 33,
   "metadata": {
    "scrolled": true
   },
   "outputs": [
    {
     "name": "stdout",
     "output_type": "stream",
     "text": [
      "after increment size  3 arr becomes: [4, 67, 2, 10, 6, 9, 45]\n",
      "after increment size  3 arr becomes: [4, 6, 2, 10, 67, 9, 45]\n",
      "after increment size  3 arr becomes: [4, 6, 2, 10, 67, 9, 45]\n",
      "after increment size  1 arr becomes: [2, 4, 6, 9, 10, 45, 67]\n"
     ]
    },
    {
     "data": {
      "text/plain": [
       "[2, 4, 6, 9, 10, 45, 67]"
      ]
     },
     "execution_count": 33,
     "metadata": {},
     "output_type": "execute_result"
    }
   ],
   "source": [
    "arr = [45,67,2,4,6,9,10]\n",
    "shell_sort(arr)\n",
    "arr"
   ]
  },
  {
   "cell_type": "code",
   "execution_count": null,
   "metadata": {},
   "outputs": [],
   "source": []
  },
  {
   "cell_type": "markdown",
   "metadata": {},
   "source": [
    "### Merge sort"
   ]
  },
  {
   "attachments": {},
   "cell_type": "markdown",
   "metadata": {},
   "source": [
    "- Merge sort is a **recursive** algorithm that continually splits a list in half.\n",
    "- If the list is **empty or has one item**, it is **sorted** by definition (**the base case**). \n",
    "- If the list has more than one item, we split the list and recursively invoke a merge sort on both halves. \n",
    "\n",
    "- Once the two halves are sorted, the fundamental operation, called a merge, is performed. \n",
    "- **Merging is the process of taking two smaller sorted lists and combining them together into a single, sorted, new list**. \n"
   ]
  },
  {
   "cell_type": "code",
   "execution_count": 8,
   "metadata": {},
   "outputs": [],
   "source": [
    "def merge_sort(arr):\n",
    "    \n",
    "    if len(arr)>1:\n",
    "        mid = len(arr)//2\n",
    "        lefthalf = arr[:mid]\n",
    "        righthalf = arr[mid:]\n",
    "\n",
    "        merge_sort(lefthalf)\n",
    "        merge_sort(righthalf)\n",
    "\n",
    "        i=0\n",
    "        j=0\n",
    "        k=0\n",
    "        while i < len(lefthalf) and j < len(righthalf):\n",
    "            if lefthalf[i] < righthalf[j]:\n",
    "                arr[k]=lefthalf[i]\n",
    "                i=i+1\n",
    "            else:\n",
    "                arr[k]=righthalf[j]\n",
    "                j=j+1\n",
    "            k=k+1\n",
    "\n",
    "        while i < len(lefthalf):\n",
    "            arr[k]=lefthalf[i]\n",
    "            i=i+1\n",
    "            k=k+1\n",
    "\n",
    "        while j < len(righthalf):\n",
    "            arr[k]=righthalf[j]\n",
    "            j=j+1\n",
    "            k=k+1\n",
    "    \n",
    "    print ('merging', arr)"
   ]
  },
  {
   "cell_type": "code",
   "execution_count": 9,
   "metadata": {},
   "outputs": [
    {
     "name": "stdout",
     "output_type": "stream",
     "text": [
      "merging [11]\n",
      "merging [2]\n",
      "merging [2, 11]\n",
      "merging [5]\n",
      "merging [4]\n",
      "merging [4, 5]\n",
      "merging [2, 4, 5, 11]\n",
      "merging [7]\n",
      "merging [6]\n",
      "merging [6, 7]\n",
      "merging [8]\n",
      "merging [1]\n",
      "merging [23]\n",
      "merging [1, 23]\n",
      "merging [1, 8, 23]\n",
      "merging [1, 6, 7, 8, 23]\n",
      "merging [1, 2, 4, 5, 6, 7, 8, 11, 23]\n"
     ]
    },
    {
     "data": {
      "text/plain": [
       "[1, 2, 4, 5, 6, 7, 8, 11, 23]"
      ]
     },
     "execution_count": 9,
     "metadata": {},
     "output_type": "execute_result"
    }
   ],
   "source": [
    "arr = [11,2,5,4,7,6,8,1,23]\n",
    "merge_sort(arr)\n",
    "arr"
   ]
  },
  {
   "cell_type": "code",
   "execution_count": null,
   "metadata": {},
   "outputs": [],
   "source": []
  },
  {
   "cell_type": "markdown",
   "metadata": {},
   "source": [
    "### Quick sort"
   ]
  },
  {
   "attachments": {},
   "cell_type": "markdown",
   "metadata": {},
   "source": [
    "- The quick sort uses divide and conquer to **gain the same advantages as the merge sort**, **while not using additional storage**. \n",
    "- As a trade-off, however, *it is possible that the list may not be divided in half*. When this happens, we will see that performance is diminished.\n",
    "\n",
    "- A quick sort first selects a value, which is called the **pivot value**. \n",
    "- The role of the pivot value is **to assist with splitting the list**. \n",
    "- The actual position where the pivot value belongs in the final sorted list, commonly called the split point, will be used to divide the list for subsequent calls to the quick sort.\n",
    "\n",
    "- After finding the pivot point, the **partition process** will happen next. \n",
    "- It will find the **split point** and at the same time move other items to the appropriate side of the list, either less than or greater than the pivot value. \n",
    "\n",
    "#### Partition process  \n",
    "- **leftmark, stop when > pivot value; right mark, stop when < pivot value**\n",
    "- If the number (2nd index) is smaller than pivot point(assume taking the 1st element 54 as pivot point), move to the next index number 3rd, until can't move(find the position where the next number is greater than the pivot value); on the right side starting with the last element, if smaller than 54, stop, if greater, move to the previous index. when leftmark and right mark both stop, swap them. Then continue moving the leftmark and rightmark (if 3rd and 10th swapped, continue moving from 4th and 9th). when leftmark is at 6th and rightmark is at 7th, swap, then rightmark < rightmark. Split point found, exchange rightmark(smaller element) with the pivot value. Now we have the smallest number found and sorted at the right position."
   ]
  },
  {
   "cell_type": "markdown",
   "metadata": {},
   "source": [
    "1. 54,26,93,17,77,31,44,55,20: 54 pivot value, leftmark: 1, right mark: 8\n",
    "2. swap 93 and 20: 54,26,20,17,77,31,44,55,93\n",
    "3. continue, then swap 77 and 44: 54,26,20,17,44,31,77,55,93\n",
    "4. continue, `leftmark = 6`, `rightmark] = 5`, rightmark < leftmark, done\n",
    "5. swap pivot value and arr[rightmark]: 31,26,20,17,44,54,77,55,93\n",
    "6. return rightmark as `splitpoint`\n",
    "7. `quick_sort_help(arr,0,4)`: 31,26,20,17,44; `quick_sort_help(arr,5,8)`: 54,77,55,93\n",
    "8. repeat the partition process"
   ]
  },
  {
   "cell_type": "code",
   "execution_count": 18,
   "metadata": {},
   "outputs": [],
   "source": [
    "def quick_sort(arr):\n",
    "    \n",
    "    quick_sort_help(arr,0,len(arr)-1)\n",
    "\n",
    "def quick_sort_help(arr,first,last):\n",
    "    \n",
    "    if first<last:\n",
    "        \n",
    "        # with the first element chosen as pivot value, return the splitpoint\n",
    "        splitpoint = partition(arr,first,last)\n",
    "\n",
    "        quick_sort_help(arr,first,splitpoint-1)\n",
    "        quick_sort_help(arr,splitpoint+1,last)\n",
    "\n",
    "\n",
    "def partition(arr,first,last):\n",
    "    \"\"\"\n",
    "    find the split point and move elements to the appropriate side,\n",
    "    either less than or greater than the pivot value.\n",
    "    \"\"\"\n",
    "    \n",
    "    # select the pivot value\n",
    "    pivotvalue = arr[first]\n",
    "\n",
    "    leftmark = first+1\n",
    "    rightmark = last\n",
    "\n",
    "    done = False\n",
    "    while not done:\n",
    "\n",
    "        while leftmark <= rightmark and arr[leftmark] <= pivotvalue:\n",
    "            leftmark = leftmark + 1\n",
    "\n",
    "        while arr[rightmark] >= pivotvalue and rightmark >= leftmark:\n",
    "            rightmark = rightmark -1\n",
    "\n",
    "        if rightmark < leftmark:\n",
    "            done = True\n",
    "        else:\n",
    "            temp = arr[leftmark]\n",
    "            arr[leftmark] = arr[rightmark]\n",
    "            arr[rightmark] = temp\n",
    "\n",
    "    temp = arr[first]\n",
    "    arr[first] = arr[rightmark]\n",
    "    arr[rightmark] = temp\n",
    "\n",
    "\n",
    "    return rightmark"
   ]
  },
  {
   "cell_type": "code",
   "execution_count": 15,
   "metadata": {},
   "outputs": [
    {
     "data": {
      "text/plain": [
       "[1, 2, 3, 4, 4, 5, 6, 7, 11, 12]"
      ]
     },
     "execution_count": 15,
     "metadata": {},
     "output_type": "execute_result"
    }
   ],
   "source": [
    "arr = [2,5,4,6,7,3,1,4,12,11]\n",
    "quick_sort(arr)\n",
    "arr"
   ]
  },
  {
   "cell_type": "code",
   "execution_count": null,
   "metadata": {},
   "outputs": [],
   "source": []
  }
 ],
 "metadata": {
  "kernelspec": {
   "display_name": "Python 3",
   "language": "python",
   "name": "python3"
  },
  "language_info": {
   "codemirror_mode": {
    "name": "ipython",
    "version": 3
   },
   "file_extension": ".py",
   "mimetype": "text/x-python",
   "name": "python",
   "nbconvert_exporter": "python",
   "pygments_lexer": "ipython3",
   "version": "3.7.0"
  }
 },
 "nbformat": 4,
 "nbformat_minor": 4
}
