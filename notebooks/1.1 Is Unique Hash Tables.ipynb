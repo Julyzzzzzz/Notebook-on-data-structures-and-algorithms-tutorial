{
 "cells": [
  {
   "cell_type": "markdown",
   "metadata": {},
   "source": [
    "### Is Unique\n",
    "\n",
    "**Implement an algorithms to determine if a string has all unique characters. what if you cannot use additional data structures?**\n",
    "\n",
    "Hints:\n",
    "1. try a hash table\n",
    "2. could a bit vector be useful\n",
    "3. can you solve it in O(NlogN) time? what might be a solution like that look like?"
   ]
  },
  {
   "cell_type": "markdown",
   "metadata": {},
   "source": [
    "#### Is the stringan ASCII or a unicode string?\n",
    "\n",
    "**we will assume that it is ASCII for simplicity. but if it is unicode, we would need to increase the storage size.**\n",
    "\n",
    "ASCII defines 128 characters, which map to the numbers 0–127. Unicode defines (less than) $2^{21}$ characters, which, similarly, map to numbers 0–$2^{21}$ (though not all numbers are currently assigned, and some are reserved).\n",
    "\n",
    "https://stackoverflow.com/questions/19212306/whats-the-difference-between-ascii-and-unicode"
   ]
  },
  {
   "cell_type": "code",
   "execution_count": 36,
   "metadata": {},
   "outputs": [],
   "source": [
    "\"\"\"\n",
    "Method 1: create an array of booleans [False, False...False], the flag/bits at index i indicates\n",
    "whether character i in the alphabet is contained in the string. \n",
    "Start with 'False'. \n",
    "Get the unicode integer val of character char, the boolean array at val is changed from False to True.\n",
    "If val is checked again, char_set[val] is True which means it is already found, return False immediately.\n",
    "\"\"\"\n",
    "\n",
    "# O(N), N is the length of the string\n",
    "# time complexity: O(N), space complexity: O(1)\n",
    "# Assuming character set is ASCII (128 characters)\n",
    "\n",
    "def isUnique(string):\n",
    "    if len(string) > 128:\n",
    "        return False\n",
    "    \n",
    "    char_set = [False for _ in range(128)]\n",
    "    for char in string:\n",
    "        val = ord(char)\n",
    "        if char_set[val]:\n",
    "            return False\n",
    "        \n",
    "        char_set[val] = True\n",
    "    \n",
    "    return True"
   ]
  },
  {
   "cell_type": "code",
   "execution_count": 78,
   "metadata": {},
   "outputs": [],
   "source": [
    "test1 = 'abcd'\n",
    "test2 = 'aabd'\n",
    "test3 = 'hb 627jh=j ()'"
   ]
  },
  {
   "cell_type": "code",
   "execution_count": 83,
   "metadata": {},
   "outputs": [
    {
     "data": {
      "text/plain": [
       "True"
      ]
     },
     "execution_count": 83,
     "metadata": {},
     "output_type": "execute_result"
    }
   ],
   "source": [
    "isUnique(test1)"
   ]
  },
  {
   "cell_type": "code",
   "execution_count": 84,
   "metadata": {},
   "outputs": [
    {
     "data": {
      "text/plain": [
       "False"
      ]
     },
     "execution_count": 84,
     "metadata": {},
     "output_type": "execute_result"
    }
   ],
   "source": [
    "isUnique(test2)"
   ]
  },
  {
   "cell_type": "code",
   "execution_count": 85,
   "metadata": {},
   "outputs": [
    {
     "data": {
      "text/plain": [
       "False"
      ]
     },
     "execution_count": 85,
     "metadata": {},
     "output_type": "execute_result"
    }
   ],
   "source": [
    "isUnique(test3)"
   ]
  },
  {
   "cell_type": "code",
   "execution_count": 86,
   "metadata": {},
   "outputs": [],
   "source": [
    "\"\"\"\n",
    "Method 2: Using bit vector to reduce the space usage\n",
    "\n",
    "\"\"\"\n",
    "\n",
    "# O(N)\n",
    "def isUnique(string):\n",
    "    if len(string) > 128:\n",
    "        return False\n",
    "    \n",
    "    checker = 0\n",
    "    for char in string:\n",
    "        val = ord(char) - ord('a')\n",
    "        if val < 0:\n",
    "            return False\n",
    "        if (checker & (1<<val)) > 0:\n",
    "            return False\n",
    "        checker |= (1<<val)  # set the bit to val\n",
    "    return True"
   ]
  },
  {
   "cell_type": "markdown",
   "metadata": {},
   "source": [
    "https://stackoverflow.com/questions/2147848/how-do-i-represent-and-work-with-n-bit-vectors-in-python"
   ]
  },
  {
   "cell_type": "code",
   "execution_count": 29,
   "metadata": {},
   "outputs": [
    {
     "data": {
      "text/plain": [
       "'e'"
      ]
     },
     "execution_count": 29,
     "metadata": {},
     "output_type": "execute_result"
    }
   ],
   "source": [
    "s = 'ere'\n",
    "s[0]"
   ]
  },
  {
   "cell_type": "code",
   "execution_count": 63,
   "metadata": {},
   "outputs": [
    {
     "data": {
      "text/plain": [
       "97"
      ]
     },
     "execution_count": 63,
     "metadata": {},
     "output_type": "execute_result"
    }
   ],
   "source": [
    "ord('a')"
   ]
  },
  {
   "cell_type": "code",
   "execution_count": 64,
   "metadata": {},
   "outputs": [
    {
     "data": {
      "text/plain": [
       "'a'"
      ]
     },
     "execution_count": 64,
     "metadata": {},
     "output_type": "execute_result"
    }
   ],
   "source": [
    "chr(97)"
   ]
  },
  {
   "cell_type": "code",
   "execution_count": 66,
   "metadata": {},
   "outputs": [],
   "source": [
    "\"\"\"\n",
    "Method 3: compare every character of the string to every other character of the string\n",
    "\"\"\"\n",
    "\n",
    "# O(N^2) time\n",
    "# O(1) space\n",
    "\n",
    "def isUnique(string):\n",
    "    return"
   ]
  },
  {
   "cell_type": "code",
   "execution_count": 77,
   "metadata": {},
   "outputs": [],
   "source": [
    "\"\"\"\n",
    "Method 4: sort the strng in O(NlogN) time if we are allowed to modify the input string. and then\n",
    "linearly check the string for neighboring characters that are identical.\n",
    "But many algorithms take up extra space.\n",
    "\"\"\"\n",
    "# O(NlogN)\n",
    "\n",
    "def isUnique(string):\n",
    "    res = ''.join(sorted(string)) \n",
    "    for i in range(len(res)):\n",
    "        if res[i] == res[i+1]:\n",
    "            return False\n",
    "        return True"
   ]
  },
  {
   "cell_type": "code",
   "execution_count": 69,
   "metadata": {},
   "outputs": [
    {
     "data": {
      "text/plain": [
       "'aabdnno'"
      ]
     },
     "execution_count": 69,
     "metadata": {},
     "output_type": "execute_result"
    }
   ],
   "source": [
    "test_string = 'abandon'\n",
    "res = ''.join(sorted(test_string)) \n",
    "res"
   ]
  },
  {
   "cell_type": "code",
   "execution_count": null,
   "metadata": {},
   "outputs": [],
   "source": []
  }
 ],
 "metadata": {
  "kernelspec": {
   "display_name": "Python 3",
   "language": "python",
   "name": "python3"
  },
  "language_info": {
   "codemirror_mode": {
    "name": "ipython",
    "version": 3
   },
   "file_extension": ".py",
   "mimetype": "text/x-python",
   "name": "python",
   "nbconvert_exporter": "python",
   "pygments_lexer": "ipython3",
   "version": "3.7.0"
  }
 },
 "nbformat": 4,
 "nbformat_minor": 4
}
