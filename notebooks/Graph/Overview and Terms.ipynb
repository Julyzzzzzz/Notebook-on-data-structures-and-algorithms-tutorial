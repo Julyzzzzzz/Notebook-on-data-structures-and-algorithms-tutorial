{
 "cells": [
  {
   "cell_type": "markdown",
   "metadata": {},
   "source": [
    "#### Outline:\n",
    "- A general overview of Graphs and how to represent them\n",
    "- An implementation of a Graph representation in Python\n",
    "- An introduction to Breadth First Search through the Word Ladder Puzzle\n",
    "- An introduction to Depth First Search through the Knight's Tour Puzzle\n",
    "- Another overview of implementing a Graph in Python\n",
    "- An implementation of Breadth First Search in Python\n",
    "- An implementation of Depth First Search in Python"
   ]
  },
  {
   "attachments": {},
   "cell_type": "markdown",
   "metadata": {},
   "source": [
    "### Overview\n",
    "\n",
    "- Graphs are a more general structure than trees we can think of a tree as a special kind of graph. \n",
    "- Graphs can be used to represent many real-world things such as systems of roads, airline flights from city to city, how the Internet is connected, etc.\n",
    "- Once we have a good representation for a problem, we can use some standard graph algorithms to solve what otherwise might seem to be a very difficult problem.\n",
    "- Computers can operate well with information presented as a graph.\n",
    "- An example graph may be the course requirements for a computer science major"
   ]
  },
  {
   "cell_type": "markdown",
   "metadata": {},
   "source": [
    "### Vocabulary and Definitions"
   ]
  },
  {
   "cell_type": "markdown",
   "metadata": {},
   "source": [
    "> Vertex (Nodes)"
   ]
  },
  {
   "cell_type": "code",
   "execution_count": null,
   "metadata": {},
   "outputs": [],
   "source": []
  }
 ],
 "metadata": {
  "kernelspec": {
   "display_name": "Python 3",
   "language": "python",
   "name": "python3"
  },
  "language_info": {
   "codemirror_mode": {
    "name": "ipython",
    "version": 3
   },
   "file_extension": ".py",
   "mimetype": "text/x-python",
   "name": "python",
   "nbconvert_exporter": "python",
   "pygments_lexer": "ipython3",
   "version": "3.7.0"
  }
 },
 "nbformat": 4,
 "nbformat_minor": 4
}
