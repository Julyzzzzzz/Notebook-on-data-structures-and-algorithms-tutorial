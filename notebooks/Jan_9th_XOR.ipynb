{
 "cells": [
  {
   "cell_type": "markdown",
   "metadata": {},
   "source": [
    "## 1720. Decode XORed Array\n",
    "\n",
    "There is a hidden integer array `arr` that consists of `n` non-negative integers.\n",
    "\n",
    "It was encoded into another integer array `encoded` of length `n - 1`, such that `encoded[i] = arr[i] XOR arr[i + 1]`. For example, if `arr = [1,0,2,1]`, then `encoded = [1,2,3]`.\n",
    "\n",
    "You are given the `encoded` array. You are also given an integer `first`, that is the first element of `arr`, i.e. `arr[0]`.\n",
    "\n",
    "Return the original array `arr`. It can be proved that the answer exists and is unique.\n",
    "\n",
    "\n",
    "**Constraints:**\n",
    "- `2 <= n <= 104`\n",
    "- `encoded.length == n - 1`\n",
    "- `0 <= encoded[i] <= 105`\n",
    "- `0 <= first <= 105`\n",
    "\n",
    "**Example 1:**\n",
    "\n",
    "Input: encoded = [1,2,3], first = 1\n",
    "\n",
    "Output: [1,0,2,1]\n",
    "\n",
    "Explanation: If arr = [1,0,2,1], then first = 1 and encoded = [1 XOR 0, 0 XOR 2, 2 XOR 1] = [1,2,3]\n",
    "\n",
    "**Example 2:**\n",
    "\n",
    "Input: encoded = [6,2,7,3], first = 4\n",
    "\n",
    "Output: [4,2,0,7,4]"
   ]
  },
  {
   "cell_type": "code",
   "execution_count": 31,
   "metadata": {},
   "outputs": [],
   "source": [
    "def decode(self, encoded, first):\n",
    "    \"\"\"\n",
    "    :type encoded: List[int]\n",
    "    :type first: int\n",
    "    :rtype: List[int]\n",
    "    \"\"\"\n",
    "    res =[first]\n",
    "    for a in encoded:\n",
    "        first ^= a\n",
    "        res.append(first)\n",
    "    return res"
   ]
  },
  {
   "cell_type": "markdown",
   "metadata": {},
   "source": [
    "#### XOR\n",
    "\n",
    "bitwise: A ^ B\n",
    "\n",
    "boolean: A != B\n",
    "\n",
    "XOR works in binary like `0110 XOR 1111 = 1001` `0110 XOR 1001 = 1111` `1111 XOR 1001 = 0110`\n",
    "\n",
    "**both 0 or both 1, is 0; otherwise 0**\n",
    "\n",
    "the set of 3 numbers formed by 2 inputs and the result of a XOR operation, any 2 of these values can be XOR'ed to provide the 3rd: \n",
    "- 'A ^ B = C', 'A ^ C = B', 'B ^ C = A'\n"
   ]
  },
  {
   "cell_type": "markdown",
   "metadata": {},
   "source": [
    "#### Bit Shift:\n",
    "\n",
    "```\n",
    "1 << i # bit shift\n",
    "\n",
    "1 << 1 == 10\n",
    "1 << 2 == 100\n",
    "0110 << 1 == 1100\n",
    "```\n",
    "\n",
    "`011 ^ 010 == 001` from this we know the first two digits are the same and the last one was different.\n",
    "\n",
    "**An easier way for the problem below is: for example, using 001, every possible pair would be (000, 001), (010, 011), (100, 101), (110, 111), then find out which pairs add up to the correct sum**\n"
   ]
  },
  {
   "cell_type": "markdown",
   "metadata": {},
   "source": [
    "#### [Find two numbers from their sum and XOR](https://www.geeksforgeeks.org/find-two-numbers-sum-xor/)\n",
    "\n",
    "Given the sum and xor of two numbers X and Y such that sum and $xor \\in [0, 2^{64}-1]$, we need to find the numbers minimizing the value of X.\n"
   ]
  },
  {
   "cell_type": "code",
   "execution_count": 38,
   "metadata": {},
   "outputs": [
    {
     "name": "stdout",
     "output_type": "stream",
     "text": [
      "a =  15\n",
      "b = 2\n"
     ]
    }
   ],
   "source": [
    "# Python program to find two numbers with \n",
    "# given Sum and XOR such that value of \n",
    "# first number is minimum. \n",
    "  \n",
    "  \n",
    "# Function that takes in the sum and XOR \n",
    "# of two numbers and generates the two  \n",
    "# numbers such that the value of X is \n",
    "# minimized \n",
    "def compute(S, X): \n",
    "    A = (S - X)//2\n",
    "    a = 0\n",
    "    b = 0\n",
    "  \n",
    "    # Traverse through all bits \n",
    "    for i in range(64): \n",
    "        Xi = (X & (1 << i)) \n",
    "        Ai = (A & (1 << i)) \n",
    "        if (Xi == 0 and Ai == 0): \n",
    "            # Let us leave bits as 0. \n",
    "            pass\n",
    "              \n",
    "        elif (Xi == 0 and Ai > 0): \n",
    "            a = ((1 << i) | a)  \n",
    "            b = ((1 << i) | b)  \n",
    "          \n",
    "        elif (Xi > 0 and Ai == 0): \n",
    "            a = ((1 << i) | a)  \n",
    "            # We leave i-th bit of b as 0. \n",
    "  \n",
    "        else: # (Xi == 1 and Ai == 1) \n",
    "            print(\"Not Possible\") \n",
    "            return\n",
    "  \n",
    "    print(\"a = \",a) \n",
    "    print(\"b =\", b) \n",
    "  \n",
    "  \n",
    "# Driver function \n",
    "S = 17\n",
    "X = 13\n",
    "compute(S, X) \n",
    "  \n",
    "# This code is contributed by ankush_953 "
   ]
  },
  {
   "cell_type": "code",
   "execution_count": null,
   "metadata": {},
   "outputs": [],
   "source": []
  }
 ],
 "metadata": {
  "kernelspec": {
   "display_name": "Python 3",
   "language": "python",
   "name": "python3"
  },
  "language_info": {
   "codemirror_mode": {
    "name": "ipython",
    "version": 3
   },
   "file_extension": ".py",
   "mimetype": "text/x-python",
   "name": "python",
   "nbconvert_exporter": "python",
   "pygments_lexer": "ipython3",
   "version": "3.7.0"
  }
 },
 "nbformat": 4,
 "nbformat_minor": 4
}
