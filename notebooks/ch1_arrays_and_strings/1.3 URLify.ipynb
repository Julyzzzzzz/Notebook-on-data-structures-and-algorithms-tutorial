{
 "cells": [
  {
   "cell_type": "markdown",
   "metadata": {},
   "source": [
    "**Write a method to replace all the spaces in a string with `%20`. You may assume that the string has sufficient space at the end to hold the additional characters and that you are given the “true” length of the string.**\n",
    "\n",
    "Input: `\"Mr John Smith\", 13`\n",
    "\n",
    "Output: `Mr%20John%20Smith`\n",
    "\n",
    "Input: `\"Mr John Smith   \", 13`\n",
    "\n",
    "Output: `Mr%20John%20Smith`"
   ]
  },
  {
   "cell_type": "markdown",
   "metadata": {},
   "source": [
    "https://stackoverflow.com/questions/31087111/typeerror-list-object-is-not-callable-in-python/31087151"
   ]
  },
  {
   "cell_type": "code",
   "execution_count": 3,
   "metadata": {},
   "outputs": [
    {
     "data": {
      "text/plain": [
       "['a', 'b', 'c', ' ', 'g', 'h']"
      ]
     },
     "execution_count": 3,
     "metadata": {},
     "output_type": "execute_result"
    }
   ],
   "source": [
    "example = list(\"abc gh\")\n",
    "example"
   ]
  },
  {
   "cell_type": "code",
   "execution_count": 4,
   "metadata": {},
   "outputs": [
    {
     "data": {
      "text/plain": [
       "'abc gh'"
      ]
     },
     "execution_count": 4,
     "metadata": {},
     "output_type": "execute_result"
    }
   ],
   "source": [
    "s =''.join(example)\n",
    "s"
   ]
  },
  {
   "cell_type": "code",
   "execution_count": 16,
   "metadata": {},
   "outputs": [],
   "source": [
    "# O(N)\n",
    "# edit the string backwards so we don't worry about\n",
    "# overwriting characters\n",
    "\n",
    "def urlify(string, length):\n",
    "    newIndex = len(string)\n",
    "    string = list(string)\n",
    "    for i in reversed(range(length)):  # start with the last char of the string\n",
    "        if string[i] == ' ':\n",
    "            string[newIndex - 3: newIndex] = '%20' \n",
    "            newIndex -= 3\n",
    "        else: \n",
    "            string[newIndex-1] = string[i]\n",
    "            newIndex -= 1\n",
    "    return ''.join(string)"
   ]
  },
  {
   "cell_type": "code",
   "execution_count": 19,
   "metadata": {},
   "outputs": [
    {
     "data": {
      "text/plain": [
       "'much%20ado%20about%20nothing'"
      ]
     },
     "execution_count": 19,
     "metadata": {},
     "output_type": "execute_result"
    }
   ],
   "source": [
    "urlify('much ado about nothing      ', 22) # 'much%20ado%20about%20nothing'"
   ]
  },
  {
   "cell_type": "code",
   "execution_count": 20,
   "metadata": {},
   "outputs": [
    {
     "data": {
      "text/plain": [
       "'Mr%20John%20Smith'"
      ]
     },
     "execution_count": 20,
     "metadata": {},
     "output_type": "execute_result"
    }
   ],
   "source": [
    "urlify('Mr John Smith    ', 13) # 'Mr%20John%20Smith'"
   ]
  },
  {
   "cell_type": "markdown",
   "metadata": {},
   "source": [
    "Assume string has sufficient free space at the end\n",
    "solution from the book (in Java)\n",
    "```\n",
    "public static void replaceSpaces(char[] str, int trueLength) {\n",
    "    int spaceCount = 0, index, i = 0;\n",
    "    for (i = 0; i < trueLength; i++) {\n",
    "        if (str[i] == ' ') {\n",
    "            spaceCount++;\n",
    "        }\n",
    "    }\n",
    "    index = trueLength + spaceCount * 2;\n",
    "    if (trueLength < str.length) str[trueLength] = '\\0';\n",
    "    for (i = trueLength - 1; i >= 0; i--) {\n",
    "        if (str[i] == ' ') {\n",
    "            str[index - 1] = '0';\n",
    "            str[index - 2] = '2';\n",
    "            str[index - 3] = '%';\n",
    "            index = index - 3;\n",
    "        } else {\n",
    "            str[index - 1] = str[i];\n",
    "            index--;\n",
    "        }\n",
    "    }\n",
    "}\n",
    "\n",
    "public static int findLastCharacter(char[] str) {\n",
    "    for (int i = str.length - 1; i >= 0; i--) {\n",
    "        if (str[i] != ' ') {\n",
    "            return i;\n",
    "        }\n",
    "    }\n",
    "    return -1;\n",
    "}\n",
    "\n",
    "public static void main(String[] args) {\n",
    "    String str = \"Mr John Smith    \";\n",
    "    char[] arr = str.toCharArray();\n",
    "    int trueLength = findLastCharacter(arr) + 1;\n",
    "    replaceSpaces(arr, trueLength);\t\n",
    "    System.out.println(\"\\\"\" + AssortedMethods.charArrayToString(arr) + \"\\\"\");\n",
    "}\n",
    "```"
   ]
  },
  {
   "cell_type": "code",
   "execution_count": null,
   "metadata": {},
   "outputs": [],
   "source": []
  }
 ],
 "metadata": {
  "kernelspec": {
   "display_name": "Python 3",
   "language": "python",
   "name": "python3"
  },
  "language_info": {
   "codemirror_mode": {
    "name": "ipython",
    "version": 3
   },
   "file_extension": ".py",
   "mimetype": "text/x-python",
   "name": "python",
   "nbconvert_exporter": "python",
   "pygments_lexer": "ipython3",
   "version": "3.7.0"
  }
 },
 "nbformat": 4,
 "nbformat_minor": 4
}
