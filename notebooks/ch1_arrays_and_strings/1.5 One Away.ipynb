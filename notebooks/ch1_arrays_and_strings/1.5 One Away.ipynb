{
 "cells": [
  {
   "cell_type": "markdown",
   "metadata": {},
   "source": [
    "You are given two strings as input. You want to find out if these **two strings** are **at most one edit away** from each other.\n",
    "\n",
    "An edit is defined as either\n",
    "\n",
    "- **inserting a character**: length increased by 1\n",
    "- **removing a character**: length decreased by 1\n",
    "- **replacing a character**: length doesn't change\n",
    "\n",
    "*this edit distance is also called Levenshtein distance!*"
   ]
  },
  {
   "cell_type": "code",
   "execution_count": 87,
   "metadata": {},
   "outputs": [],
   "source": [
    "# method 1: brutal force\n",
    "# O(N)\n",
    "# N is the length of the **shorter** string\n",
    "\n",
    "def oneEdit(s1, s2):\n",
    "    l1 = len(s1)\n",
    "    l2 = len(s2)\n",
    "    if (l1 == l2):\n",
    "        return checkReplace(s1, s2)\n",
    "    elif abs(l1-l2) == 1:\n",
    "        return checkInsRem(s1, s2)\n",
    "    else:\n",
    "        return False\n",
    "\n",
    "def checkReplace(s1, s2):\n",
    "    foundDiff = 0\n",
    "    \n",
    "    for i in range(len(s1)):\n",
    "        if s1[i] != s2[i]:\n",
    "            foundDiff += 1\n",
    "    \n",
    "    if foundDiff > 1:\n",
    "        return False\n",
    "    else:\n",
    "        return True   \n",
    "\n",
    "# checking if i can insert to the shorter string to make it the longer string\n",
    "def checkInsRem(s1, s2):\n",
    "    if len(s1) < len(s2):\n",
    "        short = s1\n",
    "        long = s2\n",
    "    else:\n",
    "        short = s2\n",
    "        long = s1\n",
    "    \n",
    "    index_s = 0\n",
    "    index_l = 0\n",
    "    \n",
    "    while (index_s<len(short)) and (index_l<len(long)):\n",
    "        if (short[index_s] != long[index_l]):\n",
    "            if index_s != index_l:  # found the second different letter\n",
    "                return False\n",
    "            index_l += 1\n",
    "        else:\n",
    "            index_s += 1\n",
    "            index_l += 1\n",
    "    \n",
    "    return True"
   ]
  },
  {
   "cell_type": "code",
   "execution_count": 82,
   "metadata": {},
   "outputs": [],
   "source": [
    "s1 = 'pale'\n",
    "s2 = 'phhle'"
   ]
  },
  {
   "cell_type": "code",
   "execution_count": 83,
   "metadata": {},
   "outputs": [
    {
     "data": {
      "text/plain": [
       "False"
      ]
     },
     "execution_count": 83,
     "metadata": {},
     "output_type": "execute_result"
    }
   ],
   "source": [
    "oneEdit(s1, s2)"
   ]
  },
  {
   "cell_type": "code",
   "execution_count": 85,
   "metadata": {},
   "outputs": [],
   "source": [
    "s3 = 'pale'\n",
    "s4 = 'ple'"
   ]
  },
  {
   "cell_type": "code",
   "execution_count": 86,
   "metadata": {},
   "outputs": [
    {
     "data": {
      "text/plain": [
       "True"
      ]
     },
     "execution_count": 86,
     "metadata": {},
     "output_type": "execute_result"
    }
   ],
   "source": [
    "oneEdit(s3, s4)"
   ]
  },
  {
   "cell_type": "code",
   "execution_count": null,
   "metadata": {},
   "outputs": [],
   "source": []
  }
 ],
 "metadata": {
  "kernelspec": {
   "display_name": "Python 3",
   "language": "python",
   "name": "python3"
  },
  "language_info": {
   "codemirror_mode": {
    "name": "ipython",
    "version": 3
   },
   "file_extension": ".py",
   "mimetype": "text/x-python",
   "name": "python",
   "nbconvert_exporter": "python",
   "pygments_lexer": "ipython3",
   "version": "3.7.0"
  }
 },
 "nbformat": 4,
 "nbformat_minor": 4
}
