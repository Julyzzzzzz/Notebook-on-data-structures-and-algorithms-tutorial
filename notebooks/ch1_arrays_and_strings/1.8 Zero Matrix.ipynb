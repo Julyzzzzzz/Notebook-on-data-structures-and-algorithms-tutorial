{
 "cells": [
  {
   "cell_type": "markdown",
   "metadata": {},
   "source": [
    "**Write an algorithm such that if an element in an MxN matrix is 0, its entire row and column are set to O.**"
   ]
  },
  {
   "cell_type": "markdown",
   "metadata": {},
   "source": [
    "Example 1\n",
    "\n",
    "Input:\n",
    "```\n",
    "4 3\n",
    "1 2 3\n",
    "5 6 7\n",
    "4 9 2\n",
    "0 3 5\n",
    "```\n",
    "\n",
    "Output:\n",
    "```\n",
    "0 2 3\n",
    "0 6 7\n",
    "0 9 2\n",
    "0 0 0\n",
    "```"
   ]
  },
  {
   "cell_type": "markdown",
   "metadata": {},
   "source": [
    "Example 2\n",
    "\n",
    "Input:\n",
    "```\n",
    "3 3\n",
    "1 2 3\n",
    "5 0 7\n",
    "4 9 2\n",
    "```\n",
    "\n",
    "Output:\n",
    "```\n",
    "1 0 3\n",
    "0 0 0\n",
    "4 0 2\n",
    "```"
   ]
  },
  {
   "cell_type": "code",
   "execution_count": null,
   "metadata": {},
   "outputs": [],
   "source": []
  }
 ],
 "metadata": {
  "kernelspec": {
   "display_name": "Python 3",
   "language": "python",
   "name": "python3"
  },
  "language_info": {
   "codemirror_mode": {
    "name": "ipython",
    "version": 3
   },
   "file_extension": ".py",
   "mimetype": "text/x-python",
   "name": "python",
   "nbconvert_exporter": "python",
   "pygments_lexer": "ipython3",
   "version": "3.7.0"
  }
 },
 "nbformat": 4,
 "nbformat_minor": 4
}
