{
 "cells": [
  {
   "cell_type": "markdown",
   "metadata": {},
   "source": [
    "**Given two strings, write a method to decide if one is a permutation of the other. **\n",
    "\n",
    "hints:\n",
    "1.\n",
    "2.\n",
    "3.\n",
    "4."
   ]
  },
  {
   "cell_type": "code",
   "execution_count": 51,
   "metadata": {},
   "outputs": [],
   "source": [
    "# 1st attempt\n",
    "# assume ignore space, case-senstive\n",
    "def check_permutation(str1, str2):\n",
    "    str11 = str1.strip()\n",
    "    str22 = str2.strip()\n",
    "    \n",
    "    if len(str11) != len(str22):\n",
    "        return False\n",
    "    \n",
    "    for i in range(len(str11)):\n",
    "        if str11[i] != str22[len(str11)-1-i]:\n",
    "            return False\n",
    "        else:\n",
    "            return True"
   ]
  },
  {
   "cell_type": "code",
   "execution_count": 54,
   "metadata": {},
   "outputs": [],
   "source": [
    "str1 = \" dog\"\n",
    "str2 = \"GOD \""
   ]
  },
  {
   "cell_type": "code",
   "execution_count": 55,
   "metadata": {},
   "outputs": [
    {
     "data": {
      "text/plain": [
       "False"
      ]
     },
     "execution_count": 55,
     "metadata": {},
     "output_type": "execute_result"
    }
   ],
   "source": [
    "check_permutation(str1, str2)"
   ]
  },
  {
   "cell_type": "markdown",
   "metadata": {},
   "source": [
    "Confirm details:\n",
    "- case sensitive?\n",
    "- is whitespace significant?\n",
    "\n",
    "**Remember: strings of different length cannot be permutation of each other.**\n",
    "\n",
    "**Definition of permutation: two words with the same character counts**"
   ]
  },
  {
   "cell_type": "code",
   "execution_count": 58,
   "metadata": {},
   "outputs": [],
   "source": [
    "# Method 1: sort the string. two words will be identical\n",
    "# clean, simple, easy to understand\n",
    "def check_permutation(str1, str2):\n",
    "    if len(str1) != len(str2) or sorted(str1) != sorted(str2):\n",
    "        return False\n",
    "    else:\n",
    "        return True"
   ]
  },
  {
   "cell_type": "code",
   "execution_count": 24,
   "metadata": {},
   "outputs": [],
   "source": [
    "# True\n",
    "str1 = '3563476' \n",
    "str2 ='7334566'\n",
    "str3 = 'wef34f'\n",
    "str4 ='wffe34'\n",
    "# False\n",
    "str5 = '2354'\n",
    "str6 = '1234'\n",
    "str7 = 'dcw4f'\n",
    "str8 = 'dcw5f'"
   ]
  },
  {
   "cell_type": "code",
   "execution_count": 25,
   "metadata": {},
   "outputs": [
    {
     "data": {
      "text/plain": [
       "True"
      ]
     },
     "execution_count": 25,
     "metadata": {},
     "output_type": "execute_result"
    }
   ],
   "source": [
    "check_permutation(str1, str2)"
   ]
  },
  {
   "cell_type": "code",
   "execution_count": 16,
   "metadata": {},
   "outputs": [],
   "source": [
    "# Method 2: Create an array (operates like a hashmap) \n",
    "#           to check if the two strings have identical character counts\n",
    "# more efficeint\n",
    "# O(N)\n",
    "\n",
    "def check_permutation(str1, str2):\n",
    "    if len(str1) != len(str2):\n",
    "        return False\n",
    "    \n",
    "    letters = [0]*128  # assume ASCII\n",
    "    for i in str1:\n",
    "        val = ord(i)\n",
    "        letters[val] += 1\n",
    "        \n",
    "    for j in str2:\n",
    "        v = ord(j)\n",
    "        letters[v] -= 1\n",
    "        if letters[v] < 0:\n",
    "            return False\n",
    "    \n",
    "    return True"
   ]
  },
  {
   "cell_type": "code",
   "execution_count": 10,
   "metadata": {},
   "outputs": [
    {
     "data": {
      "text/plain": [
       "0"
      ]
     },
     "execution_count": 10,
     "metadata": {},
     "output_type": "execute_result"
    }
   ],
   "source": [
    "from collections import Counter\n",
    "counter = collections.Counter()\n",
    "len(counter)"
   ]
  },
  {
   "cell_type": "code",
   "execution_count": 11,
   "metadata": {},
   "outputs": [
    {
     "data": {
      "text/plain": [
       "0"
      ]
     },
     "execution_count": 11,
     "metadata": {},
     "output_type": "execute_result"
    }
   ],
   "source": [
    "counter[0]"
   ]
  },
  {
   "cell_type": "code",
   "execution_count": 23,
   "metadata": {},
   "outputs": [],
   "source": [
    "# use collections.Counter() on method 2\n",
    "from collections import Counter\n",
    "\n",
    "def check_permutation(str1, str2):\n",
    "    if len(str1) != len(str2):\n",
    "        return False\n",
    "    \n",
    "    counter = Counter()  # assume ASCII\n",
    "    for i in str1:\n",
    "        val = ord(i)\n",
    "        counter[val] += 1\n",
    "        \n",
    "    for j in str2:\n",
    "        v = ord(j)\n",
    "        counter[v] -= 1\n",
    "        if counter[v] < 0:\n",
    "            return False\n",
    "    \n",
    "    return True"
   ]
  },
  {
   "cell_type": "code",
   "execution_count": null,
   "metadata": {},
   "outputs": [],
   "source": []
  }
 ],
 "metadata": {
  "kernelspec": {
   "display_name": "Python 3",
   "language": "python",
   "name": "python3"
  },
  "language_info": {
   "codemirror_mode": {
    "name": "ipython",
    "version": 3
   },
   "file_extension": ".py",
   "mimetype": "text/x-python",
   "name": "python",
   "nbconvert_exporter": "python",
   "pygments_lexer": "ipython3",
   "version": "3.7.0"
  }
 },
 "nbformat": 4,
 "nbformat_minor": 4
}
