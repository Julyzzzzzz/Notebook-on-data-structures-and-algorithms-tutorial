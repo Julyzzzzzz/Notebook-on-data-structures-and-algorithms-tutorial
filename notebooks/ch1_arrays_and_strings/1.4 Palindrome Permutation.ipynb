{
 "cells": [
  {
   "cell_type": "markdown",
   "metadata": {},
   "source": [
    "**Given a string, determine if a permutation of the string could form a palindrome.**\n",
    "\n",
    "Palindrome: a string is the same backwards and forwards. "
   ]
  },
  {
   "cell_type": "markdown",
   "metadata": {},
   "source": [
    "**features of palindrome:**\n",
    "- if string length is eve, all characters have even numbers of counts; when odd number length, one character has odd number of counts\n",
    "- **there are 0 or 1 character having odd number of counts!**"
   ]
  },
  {
   "cell_type": "code",
   "execution_count": 1,
   "metadata": {},
   "outputs": [],
   "source": [
    "# first attemp\n",
    "# when the length of the string is even number, all characters have even numbers of counts\n",
    "# when length is odd, one character has odd number of counts\n",
    "\n",
    "from collections import Counter\n",
    "\n",
    "class Solution(object):\n",
    "    def canPermutePalindrome(self, s):\n",
    "        \"\"\"\n",
    "        :type s: str\n",
    "        :rtype: bool\n",
    "        \"\"\"\n",
    "        odd = 0\n",
    "        c = Counter(s)\n",
    "        if len(s) % 2 == 0:\n",
    "            for i in c:\n",
    "                if c[i]%2 != 0:\n",
    "                    return False\n",
    "        else:\n",
    "            for i in c:\n",
    "                if c[i]%2 != 0:\n",
    "                    odd += 1\n",
    "            if odd > 1:\n",
    "                return False\n",
    "        return True"
   ]
  },
  {
   "cell_type": "code",
   "execution_count": 2,
   "metadata": {},
   "outputs": [
    {
     "data": {
      "text/plain": [
       "False"
      ]
     },
     "execution_count": 2,
     "metadata": {},
     "output_type": "execute_result"
    }
   ],
   "source": [
    "s = Solution()\n",
    "s.canPermutePalindrome('Tact Coa')"
   ]
  },
  {
   "cell_type": "code",
   "execution_count": 3,
   "metadata": {},
   "outputs": [
    {
     "data": {
      "text/plain": [
       "True"
      ]
     },
     "execution_count": 3,
     "metadata": {},
     "output_type": "execute_result"
    }
   ],
   "source": [
    "s.canPermutePalindrome('abba')"
   ]
  },
  {
   "cell_type": "code",
   "execution_count": 16,
   "metadata": {},
   "outputs": [],
   "source": [
    "# Ignore casing and non-letter characters\n",
    "# why this doesn't work ????\n",
    "# ohhhh because the isLetter didn't do case-insenstive! low case and upper case are seen differently!!!!\n",
    "\n",
    "def palindromePermutation(s):\n",
    "    \n",
    "    odd = 0\n",
    "    c = Counter(s)\n",
    "    \n",
    "    if len(s) % 2 == 0:\n",
    "        for i in c:\n",
    "            if isLetter(i) and c[i]%2 != 0:\n",
    "                return False\n",
    "    else:\n",
    "        for i in c:\n",
    "            if isLetter(i) and c[i]%2 != 0:\n",
    "                odd += 1\n",
    "        if odd > 1:\n",
    "            return False\n",
    "    return True    \n",
    "    \n",
    "def isLetter(char):\n",
    "    al = ord('a')\n",
    "    zl = ord('z')\n",
    "    ac = ord('A')\n",
    "    zc = ord('Z')\n",
    "    val = ord(char)\n",
    "    if (al <= val <= zl) or (ac <= val <= zc):\n",
    "        return True\n",
    "    else:\n",
    "        return False"
   ]
  },
  {
   "cell_type": "code",
   "execution_count": 24,
   "metadata": {},
   "outputs": [],
   "source": [
    "# Ignore casing and non-letter characters\n",
    "# Needs a helper function to only count letters\n",
    "# there are 0 or 1 character having odd number of counts!\n",
    "# having a dictionary like data structure, {ord(char):count of this char}\n",
    "# only 0 or 1 of the key has odd number of counts\n",
    "# O(N)\n",
    "\n",
    "from collections import Counter\n",
    "\n",
    "def palindromePermutation(s):\n",
    "    \n",
    "    odd = 0\n",
    "    c = Counter()\n",
    "    for i in s:\n",
    "        if isLetter(i) > -1:\n",
    "            c[isLetter(i)] += 1\n",
    "    for j in c:\n",
    "        if c[j] % 2 != 0:\n",
    "            odd += 1\n",
    "        if odd > 1:\n",
    "            print(c)\n",
    "            return False       \n",
    "    return True\n",
    "            \n",
    "# rewrite the function so that upper and lower case can be seen the same\n",
    "def isLetter(char):\n",
    "    al = ord('a')\n",
    "    zl = ord('z')\n",
    "    ac = ord('A')\n",
    "    zc = ord('Z')\n",
    "    val = ord(char)\n",
    "    if (al <= val <= zl):\n",
    "        return (val-al)\n",
    "    elif (ac <= val <= zc):\n",
    "        return (val-ac)\n",
    "    else:\n",
    "        return (-1)"
   ]
  },
  {
   "cell_type": "code",
   "execution_count": 25,
   "metadata": {},
   "outputs": [
    {
     "data": {
      "text/plain": [
       "True"
      ]
     },
     "execution_count": 25,
     "metadata": {},
     "output_type": "execute_result"
    }
   ],
   "source": [
    "palindromePermutation('Tact Coa')  # True when ignoring casing and non-letter characters"
   ]
  },
  {
   "cell_type": "code",
   "execution_count": 26,
   "metadata": {},
   "outputs": [
    {
     "data": {
      "text/plain": [
       "False"
      ]
     },
     "execution_count": 26,
     "metadata": {},
     "output_type": "execute_result"
    }
   ],
   "source": [
    "palindromePermutation('Tact Coa')"
   ]
  },
  {
   "cell_type": "code",
   "execution_count": 11,
   "metadata": {},
   "outputs": [
    {
     "data": {
      "text/plain": [
       "97"
      ]
     },
     "execution_count": 11,
     "metadata": {},
     "output_type": "execute_result"
    }
   ],
   "source": [
    "ord('a')"
   ]
  },
  {
   "cell_type": "code",
   "execution_count": 12,
   "metadata": {},
   "outputs": [
    {
     "data": {
      "text/plain": [
       "98"
      ]
     },
     "execution_count": 12,
     "metadata": {},
     "output_type": "execute_result"
    }
   ],
   "source": [
    "ord('b')"
   ]
  },
  {
   "cell_type": "code",
   "execution_count": 13,
   "metadata": {},
   "outputs": [
    {
     "data": {
      "text/plain": [
       "122"
      ]
     },
     "execution_count": 13,
     "metadata": {},
     "output_type": "execute_result"
    }
   ],
   "source": [
    "ord('z')"
   ]
  },
  {
   "cell_type": "code",
   "execution_count": 14,
   "metadata": {},
   "outputs": [
    {
     "data": {
      "text/plain": [
       "65"
      ]
     },
     "execution_count": 14,
     "metadata": {},
     "output_type": "execute_result"
    }
   ],
   "source": [
    "ord('A')"
   ]
  },
  {
   "cell_type": "code",
   "execution_count": 15,
   "metadata": {},
   "outputs": [
    {
     "data": {
      "text/plain": [
       "90"
      ]
     },
     "execution_count": 15,
     "metadata": {},
     "output_type": "execute_result"
    }
   ],
   "source": [
    "ord('Z')"
   ]
  },
  {
   "cell_type": "code",
   "execution_count": 17,
   "metadata": {},
   "outputs": [
    {
     "data": {
      "text/plain": [
       "32"
      ]
     },
     "execution_count": 17,
     "metadata": {},
     "output_type": "execute_result"
    }
   ],
   "source": [
    "ord('z')-ord('Z')"
   ]
  },
  {
   "cell_type": "code",
   "execution_count": 18,
   "metadata": {},
   "outputs": [
    {
     "data": {
      "text/plain": [
       "32"
      ]
     },
     "execution_count": 18,
     "metadata": {},
     "output_type": "execute_result"
    }
   ],
   "source": [
    "ord('a')-ord('A')"
   ]
  },
  {
   "cell_type": "code",
   "execution_count": 4,
   "metadata": {},
   "outputs": [],
   "source": [
    "f = Counter()"
   ]
  },
  {
   "cell_type": "code",
   "execution_count": 5,
   "metadata": {},
   "outputs": [],
   "source": [
    "f[3] += 1"
   ]
  },
  {
   "cell_type": "code",
   "execution_count": 6,
   "metadata": {},
   "outputs": [
    {
     "data": {
      "text/plain": [
       "1"
      ]
     },
     "execution_count": 6,
     "metadata": {},
     "output_type": "execute_result"
    }
   ],
   "source": [
    "f[3]"
   ]
  },
  {
   "cell_type": "code",
   "execution_count": null,
   "metadata": {},
   "outputs": [],
   "source": []
  }
 ],
 "metadata": {
  "kernelspec": {
   "display_name": "Python 3",
   "language": "python",
   "name": "python3"
  },
  "language_info": {
   "codemirror_mode": {
    "name": "ipython",
    "version": 3
   },
   "file_extension": ".py",
   "mimetype": "text/x-python",
   "name": "python",
   "nbconvert_exporter": "python",
   "pygments_lexer": "ipython3",
   "version": "3.7.0"
  }
 },
 "nbformat": 4,
 "nbformat_minor": 4
}
