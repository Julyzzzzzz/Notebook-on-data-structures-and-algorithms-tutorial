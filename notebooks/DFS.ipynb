{
 "cells": [
  {
   "cell_type": "markdown",
   "metadata": {},
   "source": [
    "## Tree Traversal"
   ]
  },
  {
   "cell_type": "markdown",
   "metadata": {},
   "source": [
    "### 94. Binary Tree Inorder Traversal"
   ]
  },
  {
   "cell_type": "code",
   "execution_count": 11,
   "metadata": {},
   "outputs": [],
   "source": [
    "# Definition for a binary tree node.\n",
    "# class TreeNode(object):\n",
    "#     def __init__(self, val=0, left=None, right=None):\n",
    "#         self.val = val\n",
    "#         self.left = left\n",
    "#         self.right = right\n",
    "class Solution(object):\n",
    "    def inorderTraversal(self, root):\n",
    "        \"\"\"\n",
    "        :type root: TreeNode\n",
    "        :rtype: List[int]\n",
    "        \"\"\"\n",
    "        res = []\n",
    "        self.helper(root,res)\n",
    "        return res\n",
    "    \n",
    "    def helper(self, root, res):\n",
    "        if root:\n",
    "            self.helper(root.left, res)\n",
    "            res.append(root.val)\n",
    "            self.helper(root.right, res)"
   ]
  },
  {
   "cell_type": "markdown",
   "metadata": {},
   "source": [
    "### 144. Binary Tree Preorder Traversal"
   ]
  },
  {
   "cell_type": "code",
   "execution_count": 15,
   "metadata": {},
   "outputs": [],
   "source": [
    "# Definition for a binary tree node.\n",
    "# class TreeNode(object):\n",
    "#     def __init__(self, val=0, left=None, right=None):\n",
    "#         self.val = val\n",
    "#         self.left = left\n",
    "#         self.right = right\n",
    "class Solution(object):\n",
    "    def preorderTraversal(self, root):\n",
    "        \"\"\"\n",
    "        :type root: TreeNode\n",
    "        :rtype: List[int]\n",
    "        \"\"\"\n",
    "        res = []\n",
    "        self.helper(root, res)\n",
    "        return res\n",
    "    \n",
    "    def helper(self,root,res):\n",
    "        if root:\n",
    "            res.append(root.val)\n",
    "            self.helper(root.left, res)\n",
    "            self.helper(root.right, res)"
   ]
  },
  {
   "cell_type": "markdown",
   "metadata": {},
   "source": [
    "### 145. Binary Tree Postorder Traversal"
   ]
  },
  {
   "cell_type": "code",
   "execution_count": 17,
   "metadata": {},
   "outputs": [],
   "source": [
    "# Definition for a binary tree node.\n",
    "# class TreeNode(object):\n",
    "#     def __init__(self, val=0, left=None, right=None):\n",
    "#         self.val = val\n",
    "#         self.left = left\n",
    "#         self.right = right\n",
    "class Solution(object):\n",
    "    def postorderTraversal(self, root):\n",
    "        \"\"\"\n",
    "        :type root: TreeNode\n",
    "        :rtype: List[int]\n",
    "        \"\"\"\n",
    "        res = []\n",
    "        self.helper(root,res)\n",
    "        return res\n",
    "    \n",
    "    def helper(self, root, res):\n",
    "        if root:\n",
    "            self.helper(root.left, res)\n",
    "            self.helper(root.right,res)\n",
    "            res.append(root.val)"
   ]
  },
  {
   "cell_type": "markdown",
   "metadata": {},
   "source": [
    "### 101 Symmetric Tree\n",
    "### 226. Invert Binary Tree\n",
    "### 572. Subtree of Another Tree"
   ]
  },
  {
   "cell_type": "code",
   "execution_count": 3,
   "metadata": {},
   "outputs": [],
   "source": [
    "\"\"\"\n",
    "\"p is q\" means \"p == q\", which smartly includes two conditions below:\n",
    "if p is None and q is None, return True\n",
    "if p is None or q is None, return False\n",
    "\"\"\"\n",
    "\n",
    "class Solution:\n",
    "    def isSubtree(self, s, t):\n",
    "        if not s: \n",
    "            return False\n",
    "        if self.isSameTree(s, t): \n",
    "            return True\n",
    "        return self.isSubtree(s.left, t) or self.isSubtree(s.right, t)\n",
    "\n",
    "    def isSameTree(self, p, q) -> bool:\n",
    "        if p and q:\n",
    "            return p.val == q.val and self.isSameTree(p.left, q.left) and self.isSameTree(p.right, q.right)\n",
    "        return p is q\n"
   ]
  },
  {
   "cell_type": "markdown",
   "metadata": {},
   "source": [
    "### 104. Maximum Depth of Binary Tree\n"
   ]
  },
  {
   "cell_type": "code",
   "execution_count": 9,
   "metadata": {},
   "outputs": [],
   "source": [
    "class Solution(object):\n",
    "    def maxDepth(self, root):\n",
    "        \"\"\"\n",
    "        :type root: TreeNode\n",
    "        :rtype: int\n",
    "        \"\"\"\n",
    "        if not root:\n",
    "            return 0\n",
    "        else:\n",
    "            return 1 + max(self.maxDepth(root.left), self.maxDepth(root.right))"
   ]
  },
  {
   "cell_type": "markdown",
   "metadata": {},
   "source": [
    "### 100. Same Tree"
   ]
  },
  {
   "cell_type": "code",
   "execution_count": 10,
   "metadata": {},
   "outputs": [],
   "source": [
    "class Solution(object):\n",
    "    def isSameTree(self, p, q):\n",
    "        \"\"\"\n",
    "        :type p: TreeNode\n",
    "        :type q: TreeNode\n",
    "        :rtype: bool\n",
    "        \"\"\"\n",
    "        if p and q:\n",
    "            return p.val==q.val and self.isSameTree(p.left, q.left) and self.isSameTree(p.right,q.right)\n",
    "        return p is q"
   ]
  },
  {
   "cell_type": "markdown",
   "metadata": {},
   "source": [
    "### 993. Cousins in Binary Tree"
   ]
  },
  {
   "cell_type": "code",
   "execution_count": 12,
   "metadata": {},
   "outputs": [],
   "source": [
    "class Solution:\n",
    "    def isCousins(self, root, x, y):\n",
    "        # store (parent, depth) tuple\n",
    "        res = [] \n",
    "        \n",
    "        # dfs\n",
    "        def dfs(node, parent, depth):\n",
    "            if not node:\n",
    "                return\n",
    "            if node.val == x or node.val == y:\n",
    "                res.append((parent, depth))\n",
    "            dfs(node.left, node, depth + 1)\n",
    "            dfs(node.right, node, depth + 1)\n",
    "            \n",
    "        dfs(root, None, 0)\n",
    "        \n",
    "        # unpack two nodes found\n",
    "        node_x, node_y = res  \n",
    "\n",
    "        # compare and decide whether two nodes are cousins\n",
    "        return node_x[0] != node_y[0] and node_x[1] == node_y[1]"
   ]
  },
  {
   "cell_type": "code",
   "execution_count": 2,
   "metadata": {},
   "outputs": [],
   "source": [
    "# Author: Huahua, running time: 40 ms, 12.4 MB\n",
    "class Solution:\n",
    "    def isCousins(self, root, x, y):\n",
    "        self.px, self.dx = None, -1\n",
    "        self.py, self.dy = None, -2\n",
    "        def preorder(root, parent, d):\n",
    "            if not root: return\n",
    "            if root.val == x: \n",
    "                self.px, self.dx = parent, d\n",
    "            if root.val == y:\n",
    "                self.py, self.dy = parent, d\n",
    "            preorder(root.left, root, d + 1)\n",
    "            preorder(root.right, root, d + 1)\n",
    "            preorder(root, None, 0)\n",
    "        return self.dx == self.dy and self.px != self.py\n"
   ]
  },
  {
   "cell_type": "code",
   "execution_count": null,
   "metadata": {},
   "outputs": [],
   "source": []
  }
 ],
 "metadata": {
  "kernelspec": {
   "display_name": "Python 3",
   "language": "python",
   "name": "python3"
  },
  "language_info": {
   "codemirror_mode": {
    "name": "ipython",
    "version": 3
   },
   "file_extension": ".py",
   "mimetype": "text/x-python",
   "name": "python",
   "nbconvert_exporter": "python",
   "pygments_lexer": "ipython3",
   "version": "3.9.1"
  }
 },
 "nbformat": 4,
 "nbformat_minor": 4
}
