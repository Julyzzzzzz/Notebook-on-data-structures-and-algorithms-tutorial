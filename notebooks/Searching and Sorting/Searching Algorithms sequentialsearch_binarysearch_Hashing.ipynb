{
 "cells": [
  {
   "cell_type": "markdown",
   "metadata": {},
   "source": [
    "1. Sequential search\n",
    "2. Binary search\n",
    "3. Hashing/Hash table"
   ]
  },
  {
   "cell_type": "markdown",
   "metadata": {},
   "source": [
    "### Sequential search\n",
    "\n",
    "Basic searching technique, sequentially go through the data structure, comparing elements as you go along.\n",
    "\n",
    "If the list is ordered, we know we only have search until we reach an element which is a match or we reach an element which is greater than our search target."
   ]
  },
  {
   "cell_type": "markdown",
   "metadata": {},
   "source": [
    "**Sequential Search Analysis**\n",
    "\n",
    "**Unordered List Analysis**\n",
    "\n",
    "when item is present: `1` for best case, `n` for worst case, `n/2` for average case\n",
    "\n",
    "when item is not present: `n` for best case, `n` for worst case, `n` for average case\n",
    "\n",
    "**Ordered List Analysis**\n",
    "\n",
    "when item is present: `1` for best case, `n` for worst case, `n/2` for average case\n",
    "\n",
    "when item is not present: `1` for best case, `n` for worst case, `n/2` for average case"
   ]
  },
  {
   "cell_type": "code",
   "execution_count": 1,
   "metadata": {},
   "outputs": [],
   "source": [
    "def seq_search(arr,ele):\n",
    "    \"\"\"\n",
    "    General Sequential Search. Works on Unordered lists.\n",
    "    Given the arr we will search, ele is the element we\n",
    "    are searching\n",
    "    \"\"\"\n",
    "    \n",
    "    # Start at position 0\n",
    "    pos = 0\n",
    "    # Target becomes true if ele is in the list\n",
    "    found = False\n",
    "    \n",
    "    # go until end of list\n",
    "    while pos < len(arr) and not found:\n",
    "        \n",
    "        # If match\n",
    "        if arr[pos] == ele:\n",
    "            found = True\n",
    "            \n",
    "        # Else move one down\n",
    "        else:\n",
    "            pos  = pos+1\n",
    "    \n",
    "    return found"
   ]
  },
  {
   "cell_type": "code",
   "execution_count": 19,
   "metadata": {},
   "outputs": [],
   "source": [
    "def seq_search(arr,ele):\n",
    "    for i in arr:\n",
    "        if i == ele:\n",
    "            return True\n",
    "    return False"
   ]
  },
  {
   "cell_type": "code",
   "execution_count": 20,
   "metadata": {},
   "outputs": [],
   "source": [
    "arr = [1,9,2,8,3,4,7,5,6]"
   ]
  },
  {
   "cell_type": "code",
   "execution_count": 21,
   "metadata": {},
   "outputs": [
    {
     "data": {
      "text/plain": [
       "True"
      ]
     },
     "execution_count": 21,
     "metadata": {},
     "output_type": "execute_result"
    }
   ],
   "source": [
    "seq_search(arr,1)"
   ]
  },
  {
   "cell_type": "code",
   "execution_count": 22,
   "metadata": {},
   "outputs": [
    {
     "data": {
      "text/plain": [
       "False"
      ]
     },
     "execution_count": 22,
     "metadata": {},
     "output_type": "execute_result"
    }
   ],
   "source": [
    "seq_search(arr,10)"
   ]
  },
  {
   "cell_type": "markdown",
   "metadata": {},
   "source": [
    "**Ordered List**: If we know the list is ordered than, we only have to check until we have found the element or an element greater than it."
   ]
  },
  {
   "cell_type": "code",
   "execution_count": 9,
   "metadata": {},
   "outputs": [],
   "source": [
    "def ordered_seq_search(arr,ele):\n",
    "    \"\"\"\n",
    "    Sequential search for an Ordered list\n",
    "    The input arr must be sorted!\n",
    "    \"\"\"\n",
    "    # Start at position 0\n",
    "    pos = 0\n",
    "    \n",
    "    # Target becomes true if ele is in the list\n",
    "    found = False\n",
    "    \n",
    "    # Stop marker\n",
    "    stopped = False\n",
    "    \n",
    "    # go until end of list\n",
    "    while pos < len(arr) and not found and not stopped:\n",
    "        \n",
    "        # If match\n",
    "        if arr[pos] == ele:\n",
    "            found = True\n",
    "            \n",
    "        else:\n",
    "            \n",
    "            # Check if element is greater\n",
    "            if arr[pos] > ele:\n",
    "                stopped = True\n",
    "                \n",
    "            # Otherwise move on\n",
    "            else:\n",
    "                pos  = pos+1\n",
    "    \n",
    "    return found"
   ]
  },
  {
   "cell_type": "code",
   "execution_count": 23,
   "metadata": {},
   "outputs": [],
   "source": [
    "def ordered_seq_search(arr,ele):\n",
    "    for i in arr:\n",
    "        if i == ele:\n",
    "            return True\n",
    "        elif i > ele:\n",
    "            return False\n",
    "    return False"
   ]
  },
  {
   "cell_type": "code",
   "execution_count": 24,
   "metadata": {},
   "outputs": [],
   "source": [
    "arr.sort()"
   ]
  },
  {
   "cell_type": "code",
   "execution_count": 25,
   "metadata": {},
   "outputs": [
    {
     "data": {
      "text/plain": [
       "True"
      ]
     },
     "execution_count": 25,
     "metadata": {},
     "output_type": "execute_result"
    }
   ],
   "source": [
    "ordered_seq_search(arr,3)"
   ]
  },
  {
   "cell_type": "code",
   "execution_count": 26,
   "metadata": {},
   "outputs": [
    {
     "data": {
      "text/plain": [
       "False"
      ]
     },
     "execution_count": 26,
     "metadata": {},
     "output_type": "execute_result"
    }
   ],
   "source": [
    "ordered_seq_search(arr,10)"
   ]
  },
  {
   "cell_type": "code",
   "execution_count": null,
   "metadata": {},
   "outputs": [],
   "source": []
  },
  {
   "cell_type": "markdown",
   "metadata": {},
   "source": [
    "### Binary Search\n",
    "\n",
    "We can take greater advantage of the ordered list.\n",
    "\n",
    "Instead of searching the list in sequence, a binary search will start by examining the middle item.\n",
    "\n",
    "If that item is the one we are searching for, we are done.\n",
    "\n",
    "If the item we are searching for is greater than the middle item, we know that the entire lower half of the list as well as the middle item can be eliminated from further consideration. \n",
    "\n",
    "The item, if it is in the list, must be in the upper half.\n",
    "\n",
    "We can then repeat the process with the upper half. Start at the middle item and compare it against what we are looking for. \n",
    "\n",
    "Again, we either find it or split the list in half, therefore eliminating another large part of our possible search space.\n",
    "\n",
    "Binary search uses Divide and Conquer.\n",
    "\n",
    "Each comparison eliminates about half of the remaining items from consideration. "
   ]
  },
  {
   "cell_type": "markdown",
   "metadata": {},
   "source": [
    "What is the maximum number of comparisons this algorithm will require to check the entire list? \n",
    "\n",
    "**Binary Search Analysis**\n",
    "\n",
    "Comparisons----->Approximate number of items left\n",
    "\n",
    "1  ----->             n/2\n",
    "\n",
    "2  ----->             n/4\n",
    "\n",
    "...   ----->          ...\n",
    "\n",
    "i  ----->              n/2^i"
   ]
  },
  {
   "cell_type": "code",
   "execution_count": 29,
   "metadata": {},
   "outputs": [],
   "source": [
    "def binary_search(arr,ele):\n",
    "    \n",
    "    # First and last index values\n",
    "    first = 0\n",
    "    last = len(arr) - 1\n",
    "    \n",
    "    found = False\n",
    "    \n",
    "    \n",
    "    while first <= last and not found:\n",
    "        \n",
    "        mid = (first+last)//2 \n",
    "        \n",
    "        # Match found\n",
    "        if arr[mid] == ele:\n",
    "            found = True\n",
    "        \n",
    "        # Set new midpoints up or down depending on comparison\n",
    "        else:\n",
    "            # Set down\n",
    "            if ele < arr[mid]:\n",
    "                last = mid -1\n",
    "            # Set up \n",
    "            else:\n",
    "                first = mid + 1\n",
    "                \n",
    "    return found"
   ]
  },
  {
   "cell_type": "code",
   "execution_count": 30,
   "metadata": {},
   "outputs": [],
   "source": [
    "# list must already be sorted!\n",
    "arr = [1,2,3,4,5,6,7,8,9,10]"
   ]
  },
  {
   "cell_type": "code",
   "execution_count": 31,
   "metadata": {},
   "outputs": [
    {
     "data": {
      "text/plain": [
       "True"
      ]
     },
     "execution_count": 31,
     "metadata": {},
     "output_type": "execute_result"
    }
   ],
   "source": [
    "binary_search(arr,4)"
   ]
  },
  {
   "cell_type": "markdown",
   "metadata": {},
   "source": [
    "**Recursive Version of Binary Search¶**"
   ]
  },
  {
   "cell_type": "code",
   "execution_count": 35,
   "metadata": {},
   "outputs": [],
   "source": [
    "def rec_bin_search(arr,ele):\n",
    "    \n",
    "    # Base Case!\n",
    "    if len(arr) == 0:\n",
    "        return False\n",
    "    \n",
    "    # Recursive Case\n",
    "    else:\n",
    "        \n",
    "        mid = len(arr)//2\n",
    "        \n",
    "        # If match found\n",
    "        if arr[mid]==ele:\n",
    "            return True\n",
    "        \n",
    "        else:\n",
    "            \n",
    "            # Call again on frist half\n",
    "            if ele<arr[mid]:\n",
    "                return rec_bin_search(arr[:mid],ele)\n",
    "            \n",
    "            # Or call on second half\n",
    "            else:\n",
    "                return rec_bin_search(arr[mid+1:],ele)"
   ]
  },
  {
   "cell_type": "code",
   "execution_count": 36,
   "metadata": {},
   "outputs": [
    {
     "data": {
      "text/plain": [
       "True"
      ]
     },
     "execution_count": 36,
     "metadata": {},
     "output_type": "execute_result"
    }
   ],
   "source": [
    "rec_bin_search(arr,3)"
   ]
  },
  {
   "cell_type": "code",
   "execution_count": null,
   "metadata": {},
   "outputs": [],
   "source": []
  },
  {
   "cell_type": "markdown",
   "metadata": {},
   "source": [
    "### Hashing\n",
    "- Hashing\n",
    "- Hash Tables\n",
    "- Hash Functions\n",
    "- Collision Resolution\n",
    "- Implementing a Hash Table\n",
    "\n",
    "We can build a data structure that can be searched in **O(1)** time. \n",
    "\n",
    "This concept is referred to as **hashing**."
   ]
  },
  {
   "cell_type": "markdown",
   "metadata": {},
   "source": [
    "**Hash Table**\n",
    "\n",
    "- A **hash table** is a collection of items which are stored in such a way as to make it easy to find them later. Each position of the hash table, **slots**, can hold an item and is **named by an integer value starting at 0**. For example, we will have a slot named 0, a slot named 1, a slot named 2, and so on.\n",
    "\n",
    "- Initially, the hash table contains no items so every slot is empty.\n",
    "\n",
    "- We can implement a hash table by using a **list** with each element initialized to the special Python value **None**.\n",
    "\n",
    "- The mapping between an item and the slot where that item belongs in the hash table is called the **hash function**. \n",
    "\n",
    "- The hash function will **take any item in the collection** and **return an integer in the range of slot names, between 0 and m-1**. "
   ]
  },
  {
   "cell_type": "markdown",
   "metadata": {},
   "source": [
    "**So how should we use hash functions to map items to slots? -- the Remainder Method**\n",
    "\n",
    "- When presented with an item, the hash function is the item divided by the table size, this is then its slot number.\n",
    "- Assume that we have the set of integer items 54, 26, 93, 17, 77, and 31.\n",
    "- We’ve preassigned an empty hash table of `m=11`\n",
    "- Our remainder hash function then is: `h(item)=item%11`\n",
    "- Item - Hash Value: 54 - 10, 26 - 4, 93 - 5; 17 - 6, 77 - 0, 31 - 9\n",
    "- We’re now ready to occupy 6 out of the  11 slots.\n",
    "- This is referred to as the **load factor**, and is commonly denoted by $\\lambda = \\frac{number of items}{table size}$. For this example, $\\lambda = \\frac{6}{11}$\n",
    "- When we want to **search for an item**, we simply use the hash function to **compute the slot name** for the item and **then check the hash table** to see if it is present. This searching operation is `O(1)`, since a constant amount of time is required to compute the hash value and then index the hash table at that location. "
   ]
  },
  {
   "cell_type": "markdown",
   "metadata": {},
   "source": [
    "**Hash Functions**\n",
    "\n",
    "A hash function that **maps each item into a unique slot** is referred to as a **perfect hash function**.\n",
    "Our **goal** is to create a hash function that **minimizes the number of collisions**, is **easy to compute**, and **evenly distributes the items** in the hash table. \n",
    "\n",
    "Techniques to do this:\n",
    "\n",
    "1. The **folding method** for constructing hash functions begins by dividing the item into equal-size pieces (the last piece may not be of equal size). These pieces are then added together to give the resulting hash value.\n",
    "> - If our item was the phone number `436-555-4601`\n",
    "> - We would take the digits and divide them into groups of 2 (43,65,55,46,01). \n",
    "> - After the addition, 43+65+55+46+01, we get 210. \n",
    "> - If we assume our hash table has 11 slots, then we need to perform the extra step of dividing by 11 and keeping the remainder. \n",
    "> - 210 % 11 is 1, so the phone number 436-555-4601 hashes to slot `1`.\n",
    "\n"
   ]
  },
  {
   "cell_type": "markdown",
   "metadata": {},
   "source": [
    "2. For the **mid-square method** we first square the item, and then extract some portion of the resulting digits. \n",
    "> - For example, if the item were `44`, we would first compute $44^2=1,936$.\n",
    "> - By extracting the middle two digits, 93, and performing the remainder step, we get 93 % 11 = `5`\n"
   ]
  },
  {
   "cell_type": "markdown",
   "metadata": {},
   "source": [
    "3. We can also create hash functions for **character-based items** such as strings. \n",
    "> - The word `“cat”` can be thought of as a sequence of ordinal values.\n",
    "> - ord('c') + ord('a') + ord('t') = 99 + 97 + 116 = 312\n",
    "> - 312 % 11 = `4`"
   ]
  },
  {
   "cell_type": "markdown",
   "metadata": {},
   "source": [
    "**What if you have two items that would result in the same location? -- Collision/Clash**\n",
    "\n",
    "For example 44%11 and 77%11 are the same.\n",
    "\n",
    "**Collision Resolution Process**\n",
    "\n",
    "1. **Open Addressing**: it tries to find the next open slot or address in the hash table. \n",
    "> - It looks into the hash table and tries to find another open slot to hold the item that caused the collision. We could start at the original hash value position and then move in a sequential manner through the slots until we encounter the first slot that is empty. \n",
    "> - By systematically visiting each slot one at a time, we are performing an open addressing technique called **linear probing**.\n",
    ">- One way to deal with clustering is to skip slots, thereby more evenly distributing the items that have caused collisions. \n",
    "> - The general name for this process of looking for another slot after a collision is **rehashing**. \n",
    "> - A variation of the linear probing idea is called **quadratic probing**. \n",
    "Instead of using a constant “skip” value, we use a rehash function that increments the hash value by 1, 3, 5, 7, 9, and so on. \n",
    "> - This means that if the first hash value is h, the successive values are h+1, h+4, h+9, h+16, and so on.\n",
    "\n",
    "2. **Chaining**: An alternative method for handling the collision problem is to allow each slot to hold a reference to a collection (or chain) of items.\n",
    "\n",
    "> - Chaining allows many items to exist at the same location in the hash table. When collisions happen, the item is still placed in the proper slot of the hash table. \n",
    "> - As more and more items hash to the same location, the **difficulty of searching for the item** in the collection increases.\n"
   ]
  },
  {
   "cell_type": "markdown",
   "metadata": {},
   "source": [
    "### Keep in mind that Python already has a built-in dictionary object that serves as a Hash Table, you would never actually need to implement your own hash table in Python."
   ]
  },
  {
   "cell_type": "markdown",
   "metadata": {},
   "source": [
    "### Map\n",
    "\n",
    "The idea of a dictionary used as a hash table to get and retrieve items using keys is often referred to as a mapping. In our implementation we will have the following methods:\n",
    "\n",
    "- `HashTable()` Create a new, empty map. It returns an empty map collection.\n",
    "- `put(key,val)` Add a new key-value pair to the map. If the key is already in the map then replace the old value with the new value.\n",
    "- `get(key)` Given a key, return the value stored in the map or None otherwise.\n",
    "- `del` Delete the key-value pair from the map using a statement of the form del map[key].\n",
    "- `len()` Return the number of key-value pairs stored\n",
    "- `in` the map in Return True for a statement of the form key in map, if the given key is in the map, False otherwise."
   ]
  },
  {
   "cell_type": "code",
   "execution_count": 46,
   "metadata": {},
   "outputs": [],
   "source": [
    "class HashTable(object):\n",
    "    \"\"\"\n",
    "    use the reminder method as the hash function\n",
    "    \"\"\"\n",
    "    \n",
    "    def __init__(self,size):\n",
    "        \n",
    "        # Set up size and slots and data\n",
    "        self.size = size\n",
    "        self.slots = [None] * self.size\n",
    "        self.data = [None] * self.size\n",
    "        \n",
    "    def put(self,key,data):\n",
    "        #Note, we'll only use integer keys for ease of use with the Hash Function\n",
    "        \n",
    "        # Get the hash value\n",
    "        hashvalue = self.hashfunction(key,len(self.slots))\n",
    "\n",
    "        # If Slot is Empty\n",
    "        if self.slots[hashvalue] == None:\n",
    "            self.slots[hashvalue] = key\n",
    "            self.data[hashvalue] = data\n",
    "        \n",
    "        else:\n",
    "            \n",
    "            # If key already exists, replace old value\n",
    "            if self.slots[hashvalue] == key:\n",
    "                self.data[hashvalue] = data  \n",
    "            \n",
    "            # Otherwise, find the next available slot\n",
    "            else:\n",
    "                \n",
    "                nextslot = self.rehash(hashvalue,len(self.slots))\n",
    "                \n",
    "                # Get to the next slot\n",
    "                while self.slots[nextslot] != None and self.slots[nextslot] != key:\n",
    "                    nextslot = self.rehash(nextslot,len(self.slots))\n",
    "                \n",
    "                # Set new key, if NONE\n",
    "                if self.slots[nextslot] == None:\n",
    "                    self.slots[nextslot]=key\n",
    "                    self.data[nextslot]=data\n",
    "                    \n",
    "                # Otherwise replace old value\n",
    "                else:\n",
    "                    self.data[nextslot] = data \n",
    "\n",
    "    def hashfunction(self,key,size):\n",
    "        # Remainder Method\n",
    "        return key%size\n",
    "\n",
    "    def rehash(self,oldhash,size):\n",
    "        # For finding next possible positions\n",
    "        return (oldhash+1)%size\n",
    "    \n",
    "    \n",
    "    def get(self,key):\n",
    "        \n",
    "        # Getting items given a key\n",
    "        \n",
    "        # Set up variables for our search\n",
    "        startslot = self.hashfunction(key,len(self.slots))\n",
    "        data = None\n",
    "        stop = False\n",
    "        found = False\n",
    "        position = startslot\n",
    "        \n",
    "        # Until we discern that its not empty or found (and haven't stopped yet)\n",
    "        while self.slots[position] != None and not found and not stop:\n",
    "            \n",
    "            if self.slots[position] == key:\n",
    "                found = True\n",
    "                data = self.data[position]\n",
    "                \n",
    "            else:\n",
    "                position=self.rehash(position,len(self.slots))\n",
    "                if position == startslot:\n",
    "                    \n",
    "                    stop = True\n",
    "        return data\n",
    "\n",
    "    # Special Methods for use with Python indexing\n",
    "    def __getitem__(self,key):\n",
    "        return self.get(key)\n",
    "\n",
    "    def __setitem__(self,key,data):\n",
    "        self.put(key,data)"
   ]
  },
  {
   "cell_type": "code",
   "execution_count": 38,
   "metadata": {},
   "outputs": [],
   "source": [
    "h = HashTable(5)"
   ]
  },
  {
   "cell_type": "code",
   "execution_count": 39,
   "metadata": {},
   "outputs": [],
   "source": [
    "# Put our first key in\n",
    "h[1] = 'one'"
   ]
  },
  {
   "cell_type": "code",
   "execution_count": 40,
   "metadata": {},
   "outputs": [],
   "source": [
    "h[2] = 'two'\n",
    "h[3] = 'three'"
   ]
  },
  {
   "cell_type": "code",
   "execution_count": 41,
   "metadata": {},
   "outputs": [
    {
     "data": {
      "text/plain": [
       "'one'"
      ]
     },
     "execution_count": 41,
     "metadata": {},
     "output_type": "execute_result"
    }
   ],
   "source": [
    "h[1]"
   ]
  },
  {
   "cell_type": "code",
   "execution_count": 42,
   "metadata": {},
   "outputs": [],
   "source": [
    "h[1] = 'new_one'"
   ]
  },
  {
   "cell_type": "code",
   "execution_count": 43,
   "metadata": {},
   "outputs": [
    {
     "data": {
      "text/plain": [
       "'new_one'"
      ]
     },
     "execution_count": 43,
     "metadata": {},
     "output_type": "execute_result"
    }
   ],
   "source": [
    "h[1]"
   ]
  },
  {
   "cell_type": "code",
   "execution_count": 45,
   "metadata": {},
   "outputs": [
    {
     "name": "stdout",
     "output_type": "stream",
     "text": [
      "None\n"
     ]
    }
   ],
   "source": [
    "print (h[4])"
   ]
  },
  {
   "cell_type": "code",
   "execution_count": null,
   "metadata": {},
   "outputs": [],
   "source": []
  }
 ],
 "metadata": {
  "kernelspec": {
   "display_name": "Python 3",
   "language": "python",
   "name": "python3"
  },
  "language_info": {
   "codemirror_mode": {
    "name": "ipython",
    "version": 3
   },
   "file_extension": ".py",
   "mimetype": "text/x-python",
   "name": "python",
   "nbconvert_exporter": "python",
   "pygments_lexer": "ipython3",
   "version": "3.9.1"
  }
 },
 "nbformat": 4,
 "nbformat_minor": 4
}
