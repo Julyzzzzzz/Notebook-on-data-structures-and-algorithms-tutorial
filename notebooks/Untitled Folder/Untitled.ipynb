{
 "cells": [
  {
   "cell_type": "code",
   "execution_count": 9,
   "metadata": {},
   "outputs": [
    {
     "name": "stdout",
     "output_type": "stream",
     "text": [
      "a =  7\n",
      "b = 4\n"
     ]
    }
   ],
   "source": [
    "# Python program to find two numbers with \n",
    "# given Sum and XOR such that value of \n",
    "# first number is minimum. \n",
    "  \n",
    "  \n",
    "# Function that takes in the sum and XOR \n",
    "# of two numbers and generates the two  \n",
    "# numbers such that the value of X is \n",
    "# minimized \n",
    "def compute(S, X): \n",
    "    A = (S - X)//2\n",
    "    a = 0\n",
    "    b = 0\n",
    "  \n",
    "    # Traverse through all bits \n",
    "    for i in range(64): \n",
    "        Xi = (X & (1 << i)) \n",
    "        Ai = (A & (1 << i)) \n",
    "        if (Xi == 0 and Ai == 0): \n",
    "            # Let us leave bits as 0. \n",
    "            pass\n",
    "              \n",
    "        elif (Xi == 0 and Ai > 0): \n",
    "            a = ((1 << i) | a)  \n",
    "            b = ((1 << i) | b)  \n",
    "          \n",
    "        elif (Xi > 0 and Ai == 0): \n",
    "            a = ((1 << i) | a)  \n",
    "            # We leave i-th bit of b as 0. \n",
    "  \n",
    "        else: # (Xi == 1 and Ai == 1) \n",
    "            print(\"Not Possible\") \n",
    "            return\n",
    "  \n",
    "    print(\"a = \",a) \n",
    "    print(\"b =\", b) \n",
    "  \n",
    "  \n",
    "# Driver function \n",
    "S = 11\n",
    "X = 3\n",
    "compute(S, X) \n",
    "  \n",
    "# This code is contributed by ankush_953 "
   ]
  },
  {
   "cell_type": "code",
   "execution_count": 2,
   "metadata": {},
   "outputs": [],
   "source": [
    "S = 11\n",
    "X = 3"
   ]
  },
  {
   "cell_type": "code",
   "execution_count": 20,
   "metadata": {},
   "outputs": [
    {
     "data": {
      "text/plain": [
       "0"
      ]
     },
     "execution_count": 20,
     "metadata": {},
     "output_type": "execute_result"
    }
   ],
   "source": [
    "Xi = (X & (1 << 3)) \n",
    "Xi"
   ]
  },
  {
   "cell_type": "code",
   "execution_count": 21,
   "metadata": {},
   "outputs": [
    {
     "data": {
      "text/plain": [
       "8"
      ]
     },
     "execution_count": 21,
     "metadata": {},
     "output_type": "execute_result"
    }
   ],
   "source": [
    "a = ((1 << 3) | 0)  \n",
    "a"
   ]
  },
  {
   "cell_type": "code",
   "execution_count": null,
   "metadata": {},
   "outputs": [],
   "source": []
  }
 ],
 "metadata": {
  "kernelspec": {
   "display_name": "Python 3",
   "language": "python",
   "name": "python3"
  },
  "language_info": {
   "codemirror_mode": {
    "name": "ipython",
    "version": 3
   },
   "file_extension": ".py",
   "mimetype": "text/x-python",
   "name": "python",
   "nbconvert_exporter": "python",
   "pygments_lexer": "ipython3",
   "version": "3.7.0"
  }
 },
 "nbformat": 4,
 "nbformat_minor": 4
}
