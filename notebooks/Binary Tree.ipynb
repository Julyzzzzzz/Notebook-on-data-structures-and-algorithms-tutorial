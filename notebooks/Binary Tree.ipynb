{
 "cells": [
  {
   "cell_type": "markdown",
   "metadata": {},
   "source": [
    "# Binary Tree\n",
    "\n",
    "#### [Binary Trees in Python: Introduction and Traversal Algorithms](https://www.youtube.com/watch?v=6oL-0TdVy28) by *LucidProgramming*\n",
    "\n",
    "#### [Github](https://github.com/vprusso/youtube_tutorials/blob/master/data_structures/trees/binary_trees/binary_tree_recursive_dfs_traversals.py)\n",
    "\n",
    "#### [Slides](https://docs.google.com/presentation/d/1OPqeIRnRyYLpFQPk7Wf0qmCUe-cMmAsI1hUqpab0B_s/edit)"
   ]
  },
  {
   "cell_type": "markdown",
   "metadata": {},
   "source": [
    "### Terminology\n",
    "> left child\n",
    "\n",
    "> right child\n",
    "\n",
    "> *Complete Binary Tree*: every level, except possibly the last, is completely filled, and all nodes in the last level are as far ;eft as possible.\n",
    "\n",
    "> *Full Binary Tree* (a proper or plane binary tree): every node has either 0 or 2 children"
   ]
  },
  {
   "cell_type": "code",
   "execution_count": 1,
   "metadata": {},
   "outputs": [],
   "source": [
    "class Node(object):\n",
    "    def __init__(self, value):\n",
    "        self.value = value\n",
    "        self.left = None\n",
    "        self.right = None"
   ]
  },
  {
   "cell_type": "code",
   "execution_count": 2,
   "metadata": {},
   "outputs": [],
   "source": [
    "class BinaryTree(object):\n",
    "    def __init__(self, root):\n",
    "        self.root = Node(root)"
   ]
  },
  {
   "cell_type": "code",
   "execution_count": 15,
   "metadata": {},
   "outputs": [],
   "source": [
    "# 1 is the root of the tree\n",
    "# left child is 2 and right child is 3 ...\n",
    "#        1\n",
    "#    /      \\\n",
    "#   2        3\n",
    "#  / \\      / \\\n",
    "# 4   5    6   7\n",
    "# set up the tree\n",
    "tree = BinaryTree(1)\n",
    "tree.root.left = Node(2)\n",
    "tree.root.right = Node(3)\n",
    "tree.root.left.left = Node(4)\n",
    "tree.root.left.right = Node(5)\n",
    "tree.root.right.left = Node(6)\n",
    "tree.root.right.right = Node(7)"
   ]
  },
  {
   "cell_type": "markdown",
   "metadata": {},
   "source": [
    "### Binary Tree Traversals\n",
    "\n",
    "> Definition: process of visiting (checking and/or updating) each node in a tree data structure, exactly once\n",
    "\n",
    "> Unlike linked lists, one-dimensional arrays etc., which are canonically traversed in linear order, trees may be traversed in multiple ways. They may be traversed in depth-first or breadth-first order.\n",
    "\n",
    "> There are three common ways to traverse them in depth-first order: in order, pre-order, and post order.\n"
   ]
  },
  {
   "cell_type": "code",
   "execution_count": 4,
   "metadata": {},
   "outputs": [],
   "source": [
    "#       F\n",
    "#    /      \\\n",
    "#   B        G\n",
    "#  / \\        \\\n",
    "# A   D        I\n",
    "#    / \\      /\n",
    "#  C   E    H"
   ]
  },
  {
   "cell_type": "markdown",
   "metadata": {},
   "source": [
    "### Pre-order Traversal\n",
    "\n",
    "1. check if the current node is empty / null (if it's empty or null, move back to the last node)\n",
    "2. Display the data part of the root (or current node)\n",
    "3. Traverse the left subtree by recursively calling the pre-order function\n",
    "4. Traverse the right subtree by recursively calling the pre-order function\n",
    "\n",
    "$pre-order: F,B,A,D,C,E,G,I,H$"
   ]
  },
  {
   "cell_type": "code",
   "execution_count": 7,
   "metadata": {},
   "outputs": [],
   "source": [
    "# code the pre-order traversal\n",
    "class BinaryTree(object):\n",
    "    def __init__(self, root):\n",
    "        self.root = Node(root)\n",
    "    \n",
    "    def print_tree(self, traversal_type):\n",
    "        \"\"\"\n",
    "        a help function to print out the tree and to specify what\n",
    "        kind of traveral algorithm we want the tree to print out at\n",
    "        \"\"\"\n",
    "        if traversal_type == 'preorder':\n",
    "            return self.preorder_print(tree.root, \"\")\n",
    "        else:\n",
    "            print('Traversal type ' + str(traversal_type) + \" is not supported.\")\n",
    "    \n",
    "    def preorder_print(self, start, traversal):\n",
    "        \"\"\"\n",
    "        root -> left -> right\n",
    "        if start --> if the node is not null\n",
    "        At every recursor call of this function, as long as the node\n",
    "        is not null, print out the value in traversal string and\n",
    "        seperate with a dash '-'.\n",
    "        \"\"\"\n",
    "        if start: \n",
    "            traversal += (str(start.value) + \"-\")\n",
    "            traversal = self.preorder_print(start.left, traversal)\n",
    "            traversal = self.preorder_print(start.right, traversal)\n",
    "        return traversal\n",
    "    "
   ]
  },
  {
   "cell_type": "code",
   "execution_count": 21,
   "metadata": {},
   "outputs": [
    {
     "name": "stdout",
     "output_type": "stream",
     "text": [
      "1-2-4-5-3-6-7-\n"
     ]
    }
   ],
   "source": [
    "# print pre-order traversal\n",
    "tree = BinaryTree(1)\n",
    "tree.root.left = Node(2)\n",
    "tree.root.right = Node(3)\n",
    "tree.root.left.left = Node(4)\n",
    "tree.root.left.right = Node(5)\n",
    "tree.root.right.left = Node(6)\n",
    "tree.root.right.right = Node(7)\n",
    "\n",
    "print(tree.print_tree('preorder'))"
   ]
  },
  {
   "cell_type": "code",
   "execution_count": 17,
   "metadata": {},
   "outputs": [],
   "source": [
    "#       F\n",
    "#    /      \\\n",
    "#   B        G\n",
    "#  / \\        \\\n",
    "# A   D        I\n",
    "#    / \\      /\n",
    "#  C   E    H"
   ]
  },
  {
   "cell_type": "markdown",
   "metadata": {},
   "source": [
    "# In-order Traversal\n",
    "\n",
    "1. Check if the current node is empty / null (*if it's empty or null, move back to the last node*)\n",
    "2. Traverse the left subtree by recursively calling the in-order function (*if can't going more left, print out the data*)\n",
    "3. Display the data part of the root (or current node)\n",
    "4. Traverse the right subtree by recursively calling the in-order function\n",
    "\n",
    "$In-order:A,B,C,D,E,F,G,H,I$"
   ]
  },
  {
   "cell_type": "code",
   "execution_count": 18,
   "metadata": {},
   "outputs": [],
   "source": [
    "# add the in-order traversal\n",
    "class BinaryTree(object):\n",
    "    def __init__(self, root):\n",
    "        self.root = Node(root)\n",
    "    \n",
    "    def print_tree(self, traversal_type):\n",
    "        \"\"\"\n",
    "        add in-order tracersal type print\n",
    "        \"\"\"\n",
    "        if traversal_type == 'preorder':\n",
    "            return self.preorder_print(tree.root, \"\")\n",
    "        elif traversal_type == 'inorder':\n",
    "            return self.inorder_print(tree.root, \"\")\n",
    "        else:\n",
    "            print('Traversal type ' + str(traversal_type) + \" is not supported.\")\n",
    "    \n",
    "    def preorder_print(self, start, traversal):\n",
    "        \"\"\"\n",
    "        root -> left -> right\n",
    "        \"\"\"\n",
    "        if start: \n",
    "            traversal += (str(start.value) + \"-\")\n",
    "            traversal = self.preorder_print(start.left, traversal)\n",
    "            traversal = self.preorder_print(start.right, traversal)\n",
    "        return traversal\n",
    "    \n",
    "    def inorder_print(self, start, traversal):\n",
    "        \"\"\"Left->Root->Right\"\"\"\n",
    "        if start:\n",
    "            traversal = self.inorder_print(start.left, traversal)\n",
    "            traversal += (str(start.value) + \"-\")\n",
    "            traversal = self.inorder_print(start.right, traversal)\n",
    "        return traversal"
   ]
  },
  {
   "cell_type": "code",
   "execution_count": 20,
   "metadata": {},
   "outputs": [
    {
     "name": "stdout",
     "output_type": "stream",
     "text": [
      "4-2-5-1-6-3-7-\n"
     ]
    }
   ],
   "source": [
    "# print in-order traversal\n",
    "tree = BinaryTree(1)\n",
    "tree.root.left = Node(2)\n",
    "tree.root.right = Node(3)\n",
    "tree.root.left.left = Node(4)\n",
    "tree.root.left.right = Node(5)\n",
    "tree.root.right.left = Node(6)\n",
    "tree.root.right.right = Node(7)\n",
    "\n",
    "print(tree.print_tree('inorder'))"
   ]
  },
  {
   "cell_type": "code",
   "execution_count": 22,
   "metadata": {},
   "outputs": [],
   "source": [
    "# add the post-order traversal\n",
    "class BinaryTree(object):\n",
    "    def __init__(self, root):\n",
    "        self.root = Node(root)\n",
    "    \n",
    "    def print_tree(self, traversal_type):\n",
    "        # add post-order print\n",
    "        if traversal_type == \"preorder\":\n",
    "            return self.preorder_print(tree.root, \"\")\n",
    "        elif traversal_type == \"inorder\":\n",
    "            return self.inorder_print(tree.root, \"\")\n",
    "        elif traversal_type == \"postorder\":\n",
    "            return self.postorder_print(tree.root, \"\")\n",
    "        else:\n",
    "            print(\"Traversal type \" + str(traversal_type) + \" is not supported.\")\n",
    "            return False\n",
    "    \n",
    "    def preorder_print(self, start, traversal):\n",
    "        \"\"\"\n",
    "        root -> left -> right\n",
    "        \"\"\"\n",
    "        if start: \n",
    "            traversal += (str(start.value) + \"-\")\n",
    "            traversal = self.preorder_print(start.left, traversal)\n",
    "            traversal = self.preorder_print(start.right, traversal)\n",
    "        return traversal\n",
    "    \n",
    "    def inorder_print(self, start, traversal):\n",
    "        \"\"\"Left->Root->Right\"\"\"\n",
    "        if start:\n",
    "            traversal = self.inorder_print(start.left, traversal)\n",
    "            traversal += (str(start.value) + \"-\")\n",
    "            traversal = self.inorder_print(start.right, traversal)\n",
    "        return traversal\n",
    "    \n",
    "    def postorder_print(self, start, traversal):\n",
    "        \"\"\"Left->Right->Root\"\"\"\n",
    "        if start:\n",
    "            traversal = self.postorder_print(start.left, traversal)\n",
    "            traversal = self.postorder_print(start.right, traversal)\n",
    "            traversal += (str(start.value) + \"-\")\n",
    "        return traversal    "
   ]
  },
  {
   "cell_type": "code",
   "execution_count": 23,
   "metadata": {},
   "outputs": [
    {
     "name": "stdout",
     "output_type": "stream",
     "text": [
      "4-2-5-1-6-3-7-\n"
     ]
    }
   ],
   "source": [
    "# print post-order traversal\n",
    "tree = BinaryTree(1)\n",
    "tree.root.left = Node(2)\n",
    "tree.root.right = Node(3)\n",
    "tree.root.left.left = Node(4)\n",
    "tree.root.left.right = Node(5)\n",
    "tree.root.right.left = Node(6)\n",
    "tree.root.right.right = Node(7)\n",
    "\n",
    "print(tree.print_tree('inorder'))"
   ]
  },
  {
   "cell_type": "code",
   "execution_count": null,
   "metadata": {},
   "outputs": [],
   "source": []
  }
 ],
 "metadata": {
  "kernelspec": {
   "display_name": "Python 3",
   "language": "python",
   "name": "python3"
  },
  "language_info": {
   "codemirror_mode": {
    "name": "ipython",
    "version": 3
   },
   "file_extension": ".py",
   "mimetype": "text/x-python",
   "name": "python",
   "nbconvert_exporter": "python",
   "pygments_lexer": "ipython3",
   "version": "3.7.0"
  }
 },
 "nbformat": 4,
 "nbformat_minor": 4
}
