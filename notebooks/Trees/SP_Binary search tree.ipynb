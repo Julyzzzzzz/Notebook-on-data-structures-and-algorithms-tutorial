{
 "cells": [
  {
   "cell_type": "code",
   "execution_count": 3,
   "id": "1989226f",
   "metadata": {},
   "outputs": [],
   "source": [
    "class TreeNode:\n",
    "    def __init__(self, x):\n",
    "        self.val = x\n",
    "        self.left, self.right = None, None\n",
    "    \n",
    "    def createBST(nums):\n",
    "        root = None\n",
    "        for num in nums:\n",
    "            root = insert(root, num)\n",
    "        return root\n",
    "    \n",
    "    def insert(root, val):\n",
    "        if not root: return\n",
    "        inorder(root.left)\n",
    "        print(root.val)\n",
    "        inorder(root.right)\n",
    "    \n",
    "    if __name__ == '__main':\n",
    "        root = createBST([5,3,1,4,7,6])\n",
    "        inorder(root)"
   ]
  },
  {
   "cell_type": "code",
   "execution_count": null,
   "id": "a7f78327",
   "metadata": {},
   "outputs": [],
   "source": []
  }
 ],
 "metadata": {
  "kernelspec": {
   "display_name": "Python 3",
   "language": "python",
   "name": "python3"
  },
  "language_info": {
   "codemirror_mode": {
    "name": "ipython",
    "version": 3
   },
   "file_extension": ".py",
   "mimetype": "text/x-python",
   "name": "python",
   "nbconvert_exporter": "python",
   "pygments_lexer": "ipython3",
   "version": "3.9.1"
  }
 },
 "nbformat": 4,
 "nbformat_minor": 5
}
