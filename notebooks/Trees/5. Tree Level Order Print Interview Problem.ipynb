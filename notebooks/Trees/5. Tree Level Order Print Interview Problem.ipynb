{
 "cells": [
  {
   "cell_type": "markdown",
   "metadata": {},
   "source": [
    "Given a binary tree of integers, print it in level order. The output will contain space between the numbers in the same level, and new line between different levels. For example, if the tree is:"
   ]
  },
  {
   "cell_type": "code",
   "execution_count": 1,
   "metadata": {},
   "outputs": [],
   "source": [
    "#       1\n",
    "#     /  \\\n",
    "#    2    3\n",
    "#  /     / \\\n",
    "# 4     5   6"
   ]
  },
  {
   "cell_type": "markdown",
   "metadata": {},
   "source": [
    "The output should be:"
   ]
  },
  {
   "cell_type": "code",
   "execution_count": 3,
   "metadata": {},
   "outputs": [],
   "source": [
    "# 1\n",
    "# 2 3 \n",
    "# 4 5 6"
   ]
  },
  {
   "cell_type": "markdown",
   "metadata": {},
   "source": [
    "**Solution (DFS):**"
   ]
  },
  {
   "cell_type": "code",
   "execution_count": 1,
   "metadata": {},
   "outputs": [],
   "source": [
    "class Solution(object):\n",
    "    def levelOrder(self, root):\n",
    "        \"\"\"\n",
    "        :type root: TreeNode\n",
    "        :rtype: List[List[int]]\n",
    "        \"\"\"\n",
    "        levels = []\n",
    "        if not root:\n",
    "            return levels\n",
    "        \n",
    "        def helper (node, depth):\n",
    "            \n",
    "            if len(levels) == depth:\n",
    "                levels.append([])\n",
    "            levels[depth].append(node.val)\n",
    "            if node.left:\n",
    "                helper(node.left, depth + 1)\n",
    "            if node.right:\n",
    "                helper(node.right, depth + 1)\n",
    "        \n",
    "        helper(root, 0)\n",
    "        return levels"
   ]
  },
  {
   "cell_type": "code",
   "execution_count": null,
   "metadata": {},
   "outputs": [],
   "source": []
  },
  {
   "cell_type": "markdown",
   "metadata": {},
   "source": [
    "**Solution (BFS):**"
   ]
  },
  {
   "cell_type": "code",
   "execution_count": 2,
   "metadata": {},
   "outputs": [],
   "source": [
    "from collections import deque\n",
    "class Solution:\n",
    "    def levelOrder(self, root):\n",
    "        \"\"\"\n",
    "        :type root: TreeNode\n",
    "        :rtype: List[List[int]]\n",
    "        \"\"\"\n",
    "        levels = []\n",
    "        if not root:\n",
    "            return levels\n",
    "        \n",
    "        level = 0\n",
    "        queue = deque([root,])\n",
    "        while queue:\n",
    "            # start the current level\n",
    "            levels.append([])\n",
    "            # number of elements in the current level \n",
    "            level_length = len(queue)\n",
    "            \n",
    "            for i in range(level_length):\n",
    "                node = queue.popleft()\n",
    "                # fulfill the current level\n",
    "                levels[level].append(node.val)\n",
    "                \n",
    "                # add child nodes of the current level\n",
    "                # in the queue for the next level\n",
    "                if node.left:\n",
    "                    queue.append(node.left)\n",
    "                if node.right:\n",
    "                    queue.append(node.right)\n",
    "            \n",
    "            # go to next level\n",
    "            level += 1\n",
    "        \n",
    "        return levels"
   ]
  },
  {
   "cell_type": "markdown",
   "metadata": {},
   "source": [
    "both has time/space complexity of O(N)"
   ]
  },
  {
   "cell_type": "code",
   "execution_count": null,
   "metadata": {},
   "outputs": [],
   "source": []
  }
 ],
 "metadata": {
  "kernelspec": {
   "display_name": "Python 3",
   "language": "python",
   "name": "python3"
  },
  "language_info": {
   "codemirror_mode": {
    "name": "ipython",
    "version": 3
   },
   "file_extension": ".py",
   "mimetype": "text/x-python",
   "name": "python",
   "nbconvert_exporter": "python",
   "pygments_lexer": "ipython3",
   "version": "3.7.0"
  }
 },
 "nbformat": 4,
 "nbformat_minor": 4
}
